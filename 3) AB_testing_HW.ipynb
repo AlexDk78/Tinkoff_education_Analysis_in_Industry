{
  "cells": [
    {
      "cell_type": "markdown",
      "id": "96ac1922",
      "metadata": {
        "id": "96ac1922"
      },
      "source": [
        "# Шаблон для проекта по A/B - тестам. \n",
        "#Боровой А.А. Поток: \"Вольнослушатели\" 2023г."
      ]
    },
    {
      "cell_type": "markdown",
      "id": "e01e5ec9",
      "metadata": {
        "id": "e01e5ec9"
      },
      "source": [
        "### `chat_id ` из Телеграма:"
      ]
    },
    {
      "cell_type": "code",
      "source": [
        "chat_id = 897113152"
      ],
      "metadata": {
        "id": "Of7L1OK6jEKT"
      },
      "id": "Of7L1OK6jEKT",
      "execution_count": null,
      "outputs": []
    },
    {
      "cell_type": "markdown",
      "id": "1fb036f5",
      "metadata": {
        "id": "1fb036f5"
      },
      "source": [
        "------------------"
      ]
    },
    {
      "cell_type": "markdown",
      "id": "d8c6f14f",
      "metadata": {
        "id": "d8c6f14f"
      },
      "source": [
        "##  <ins>Задание 1.</ins>"
      ]
    },
    {
      "cell_type": "markdown",
      "source": [
        "### 0. Запросить у бота в Телеграме условие командой `/get_project1_desc`."
      ],
      "metadata": {
        "id": "cMi1ZWvej6zB"
      },
      "id": "cMi1ZWvej6zB"
    },
    {
      "cell_type": "markdown",
      "source": [
        "#### Текст задания:\n"
      ],
      "metadata": {
        "id": "dRfW0jCEJRct"
      },
      "id": "dRfW0jCEJRct"
    },
    {
      "cell_type": "markdown",
      "source": [
        "**Контекст**\\\n",
        "Мы считаем, что наш продукт достаточно дорогой для клиента.\n",
        "У нас есть гипотеза, что уменьшение цены продукта\n",
        "позволит повысить частоту продаж\n",
        "и суммарно увеличит доходность продукта.\n",
        "        \n",
        "**Тест**\\\n",
        "Мы проводим тест,\n",
        "в рамках которого контролем является\n",
        "продажа продукта со старой ценой,\n",
        "а тестом - продажа продукта с новой ценой.\n",
        "Целью этого теста\n",
        "является проверка гипотезы роста доходности\n",
        "нашего продукта из-за уменьшения тарифа.\n",
        "\n",
        "**Статистические вводные**\\\n",
        "Уровень значимости 5%.\n",
        "Мы хотели бы различать 5%-ное\n",
        "изменение целевой метрики\n",
        "с вероятностью 80%."
      ],
      "metadata": {
        "id": "JYLNnQHC3Wom"
      },
      "id": "JYLNnQHC3Wom"
    },
    {
      "cell_type": "markdown",
      "source": [
        "**Процесс продажи устроен следующим образом:**\n",
        "\n",
        "1.   создаётся задание на звонок человеку;\n",
        "2.   оператор берёт задание и пытается дозвониться до человека;\n",
        "3. если не дозванивается, мы несём некоторые затраты на время оператора и поддержку инфраструктуры;\n",
        "4. если дозванивается, пытается продать наш продукт;\n",
        "5. если продал, мы имеем некоторый заработок (PV) и повышенные расходы (в том числе на вознаграждение оператора)."
      ],
      "metadata": {
        "id": "007-vafjQxXX"
      },
      "id": "007-vafjQxXX"
    },
    {
      "cell_type": "markdown",
      "source": [
        "#### Импортитуем необходимые для работы библиотеки."
      ],
      "metadata": {
        "id": "jG_hORPZXEve"
      },
      "id": "jG_hORPZXEve"
    },
    {
      "cell_type": "code",
      "source": [
        "import pandas as pd\n",
        "import numpy as np\n",
        "from scipy.stats import norm\n",
        "import matplotlib.pyplot as plt\n",
        "import seaborn as sns\n",
        "from scipy.stats import shapiro\n",
        "from scipy.stats import ttest_ind\n",
        "from scipy.stats import anderson_ksamp\n",
        "from scipy.stats import cramervonmises_2samp\n",
        "from scipy.stats import mannwhitneyu\n",
        "from statsmodels.stats.proportion import proportions_ztest\n",
        "import warnings\n",
        "warnings.filterwarnings('ignore')"
      ],
      "metadata": {
        "id": "iJNvkzKNr_Qe"
      },
      "id": "iJNvkzKNr_Qe",
      "execution_count": null,
      "outputs": []
    },
    {
      "cell_type": "markdown",
      "source": [
        "Подключаем Google-диск (где временно хранятся все данные для проекта)."
      ],
      "metadata": {
        "id": "ysBFr-1kxHcJ"
      },
      "id": "ysBFr-1kxHcJ"
    },
    {
      "cell_type": "code",
      "source": [
        "from google.colab import drive \n",
        "drive.mount('/content/gdrive')"
      ],
      "metadata": {
        "colab": {
          "base_uri": "https://localhost:8080/"
        },
        "id": "S7KsHRZhJWR3",
        "outputId": "897be6e0-40c7-400f-94e6-eb9ba74fc6fd"
      },
      "id": "S7KsHRZhJWR3",
      "execution_count": null,
      "outputs": [
        {
          "output_type": "stream",
          "name": "stdout",
          "text": [
            "Drive already mounted at /content/gdrive; to attempt to forcibly remount, call drive.mount(\"/content/gdrive\", force_remount=True).\n"
          ]
        }
      ]
    },
    {
      "cell_type": "markdown",
      "source": [
        "#### Загружаем датасет с историческими данными."
      ],
      "metadata": {
        "id": "fseIn71TXKfs"
      },
      "id": "fseIn71TXKfs"
    },
    {
      "cell_type": "code",
      "source": [
        "df = pd.read_csv('gdrive/My Drive/hist_telesales.csv', index_col='ID')"
      ],
      "metadata": {
        "id": "Gg0HJoztKaH5"
      },
      "id": "Gg0HJoztKaH5",
      "execution_count": null,
      "outputs": []
    },
    {
      "cell_type": "markdown",
      "source": [
        "Осмотрим датасет."
      ],
      "metadata": {
        "id": "uuc_B1t3xSW6"
      },
      "id": "uuc_B1t3xSW6"
    },
    {
      "cell_type": "code",
      "source": [
        "df.head(10)"
      ],
      "metadata": {
        "colab": {
          "base_uri": "https://localhost:8080/",
          "height": 394
        },
        "id": "6G3JU8tuKo3e",
        "outputId": "5914f577-da91-4fb7-c5b4-9910f5544f02"
      },
      "id": "6G3JU8tuKo3e",
      "execution_count": null,
      "outputs": [
        {
          "output_type": "execute_result",
          "data": {
            "text/plain": [
              "    Флаг дозвона  Флаг продажи  Расходы    PV   NPV\n",
              "ID                                                 \n",
              "0              1             0       90     0   -90\n",
              "1              0             0        5     0    -5\n",
              "2              0             0       68     0   -68\n",
              "3              1             0       22     0   -22\n",
              "4              1             0       22     0   -22\n",
              "5              1             1      367  2397  2030\n",
              "6              1             1       49  1213  1164\n",
              "7              0             0       26     0   -26\n",
              "8              0             0       35     0   -35\n",
              "9              0             0       61     0   -61"
            ],
            "text/html": [
              "\n",
              "  <div id=\"df-2e95e50b-7a90-4da0-a344-d94b0b0f23da\">\n",
              "    <div class=\"colab-df-container\">\n",
              "      <div>\n",
              "<style scoped>\n",
              "    .dataframe tbody tr th:only-of-type {\n",
              "        vertical-align: middle;\n",
              "    }\n",
              "\n",
              "    .dataframe tbody tr th {\n",
              "        vertical-align: top;\n",
              "    }\n",
              "\n",
              "    .dataframe thead th {\n",
              "        text-align: right;\n",
              "    }\n",
              "</style>\n",
              "<table border=\"1\" class=\"dataframe\">\n",
              "  <thead>\n",
              "    <tr style=\"text-align: right;\">\n",
              "      <th></th>\n",
              "      <th>Флаг дозвона</th>\n",
              "      <th>Флаг продажи</th>\n",
              "      <th>Расходы</th>\n",
              "      <th>PV</th>\n",
              "      <th>NPV</th>\n",
              "    </tr>\n",
              "    <tr>\n",
              "      <th>ID</th>\n",
              "      <th></th>\n",
              "      <th></th>\n",
              "      <th></th>\n",
              "      <th></th>\n",
              "      <th></th>\n",
              "    </tr>\n",
              "  </thead>\n",
              "  <tbody>\n",
              "    <tr>\n",
              "      <th>0</th>\n",
              "      <td>1</td>\n",
              "      <td>0</td>\n",
              "      <td>90</td>\n",
              "      <td>0</td>\n",
              "      <td>-90</td>\n",
              "    </tr>\n",
              "    <tr>\n",
              "      <th>1</th>\n",
              "      <td>0</td>\n",
              "      <td>0</td>\n",
              "      <td>5</td>\n",
              "      <td>0</td>\n",
              "      <td>-5</td>\n",
              "    </tr>\n",
              "    <tr>\n",
              "      <th>2</th>\n",
              "      <td>0</td>\n",
              "      <td>0</td>\n",
              "      <td>68</td>\n",
              "      <td>0</td>\n",
              "      <td>-68</td>\n",
              "    </tr>\n",
              "    <tr>\n",
              "      <th>3</th>\n",
              "      <td>1</td>\n",
              "      <td>0</td>\n",
              "      <td>22</td>\n",
              "      <td>0</td>\n",
              "      <td>-22</td>\n",
              "    </tr>\n",
              "    <tr>\n",
              "      <th>4</th>\n",
              "      <td>1</td>\n",
              "      <td>0</td>\n",
              "      <td>22</td>\n",
              "      <td>0</td>\n",
              "      <td>-22</td>\n",
              "    </tr>\n",
              "    <tr>\n",
              "      <th>5</th>\n",
              "      <td>1</td>\n",
              "      <td>1</td>\n",
              "      <td>367</td>\n",
              "      <td>2397</td>\n",
              "      <td>2030</td>\n",
              "    </tr>\n",
              "    <tr>\n",
              "      <th>6</th>\n",
              "      <td>1</td>\n",
              "      <td>1</td>\n",
              "      <td>49</td>\n",
              "      <td>1213</td>\n",
              "      <td>1164</td>\n",
              "    </tr>\n",
              "    <tr>\n",
              "      <th>7</th>\n",
              "      <td>0</td>\n",
              "      <td>0</td>\n",
              "      <td>26</td>\n",
              "      <td>0</td>\n",
              "      <td>-26</td>\n",
              "    </tr>\n",
              "    <tr>\n",
              "      <th>8</th>\n",
              "      <td>0</td>\n",
              "      <td>0</td>\n",
              "      <td>35</td>\n",
              "      <td>0</td>\n",
              "      <td>-35</td>\n",
              "    </tr>\n",
              "    <tr>\n",
              "      <th>9</th>\n",
              "      <td>0</td>\n",
              "      <td>0</td>\n",
              "      <td>61</td>\n",
              "      <td>0</td>\n",
              "      <td>-61</td>\n",
              "    </tr>\n",
              "  </tbody>\n",
              "</table>\n",
              "</div>\n",
              "      <button class=\"colab-df-convert\" onclick=\"convertToInteractive('df-2e95e50b-7a90-4da0-a344-d94b0b0f23da')\"\n",
              "              title=\"Convert this dataframe to an interactive table.\"\n",
              "              style=\"display:none;\">\n",
              "        \n",
              "  <svg xmlns=\"http://www.w3.org/2000/svg\" height=\"24px\"viewBox=\"0 0 24 24\"\n",
              "       width=\"24px\">\n",
              "    <path d=\"M0 0h24v24H0V0z\" fill=\"none\"/>\n",
              "    <path d=\"M18.56 5.44l.94 2.06.94-2.06 2.06-.94-2.06-.94-.94-2.06-.94 2.06-2.06.94zm-11 1L8.5 8.5l.94-2.06 2.06-.94-2.06-.94L8.5 2.5l-.94 2.06-2.06.94zm10 10l.94 2.06.94-2.06 2.06-.94-2.06-.94-.94-2.06-.94 2.06-2.06.94z\"/><path d=\"M17.41 7.96l-1.37-1.37c-.4-.4-.92-.59-1.43-.59-.52 0-1.04.2-1.43.59L10.3 9.45l-7.72 7.72c-.78.78-.78 2.05 0 2.83L4 21.41c.39.39.9.59 1.41.59.51 0 1.02-.2 1.41-.59l7.78-7.78 2.81-2.81c.8-.78.8-2.07 0-2.86zM5.41 20L4 18.59l7.72-7.72 1.47 1.35L5.41 20z\"/>\n",
              "  </svg>\n",
              "      </button>\n",
              "      \n",
              "  <style>\n",
              "    .colab-df-container {\n",
              "      display:flex;\n",
              "      flex-wrap:wrap;\n",
              "      gap: 12px;\n",
              "    }\n",
              "\n",
              "    .colab-df-convert {\n",
              "      background-color: #E8F0FE;\n",
              "      border: none;\n",
              "      border-radius: 50%;\n",
              "      cursor: pointer;\n",
              "      display: none;\n",
              "      fill: #1967D2;\n",
              "      height: 32px;\n",
              "      padding: 0 0 0 0;\n",
              "      width: 32px;\n",
              "    }\n",
              "\n",
              "    .colab-df-convert:hover {\n",
              "      background-color: #E2EBFA;\n",
              "      box-shadow: 0px 1px 2px rgba(60, 64, 67, 0.3), 0px 1px 3px 1px rgba(60, 64, 67, 0.15);\n",
              "      fill: #174EA6;\n",
              "    }\n",
              "\n",
              "    [theme=dark] .colab-df-convert {\n",
              "      background-color: #3B4455;\n",
              "      fill: #D2E3FC;\n",
              "    }\n",
              "\n",
              "    [theme=dark] .colab-df-convert:hover {\n",
              "      background-color: #434B5C;\n",
              "      box-shadow: 0px 1px 3px 1px rgba(0, 0, 0, 0.15);\n",
              "      filter: drop-shadow(0px 1px 2px rgba(0, 0, 0, 0.3));\n",
              "      fill: #FFFFFF;\n",
              "    }\n",
              "  </style>\n",
              "\n",
              "      <script>\n",
              "        const buttonEl =\n",
              "          document.querySelector('#df-2e95e50b-7a90-4da0-a344-d94b0b0f23da button.colab-df-convert');\n",
              "        buttonEl.style.display =\n",
              "          google.colab.kernel.accessAllowed ? 'block' : 'none';\n",
              "\n",
              "        async function convertToInteractive(key) {\n",
              "          const element = document.querySelector('#df-2e95e50b-7a90-4da0-a344-d94b0b0f23da');\n",
              "          const dataTable =\n",
              "            await google.colab.kernel.invokeFunction('convertToInteractive',\n",
              "                                                     [key], {});\n",
              "          if (!dataTable) return;\n",
              "\n",
              "          const docLinkHtml = 'Like what you see? Visit the ' +\n",
              "            '<a target=\"_blank\" href=https://colab.research.google.com/notebooks/data_table.ipynb>data table notebook</a>'\n",
              "            + ' to learn more about interactive tables.';\n",
              "          element.innerHTML = '';\n",
              "          dataTable['output_type'] = 'display_data';\n",
              "          await google.colab.output.renderOutput(dataTable, element);\n",
              "          const docLink = document.createElement('div');\n",
              "          docLink.innerHTML = docLinkHtml;\n",
              "          element.appendChild(docLink);\n",
              "        }\n",
              "      </script>\n",
              "    </div>\n",
              "  </div>\n",
              "  "
            ]
          },
          "metadata": {},
          "execution_count": 32
        }
      ]
    },
    {
      "cell_type": "markdown",
      "source": [
        "Посмотрим численное и текстовое описания столбцов."
      ],
      "metadata": {
        "id": "zMZoS-Q8XPP4"
      },
      "id": "zMZoS-Q8XPP4"
    },
    {
      "cell_type": "code",
      "source": [
        "df.describe()"
      ],
      "metadata": {
        "colab": {
          "base_uri": "https://localhost:8080/",
          "height": 300
        },
        "id": "RAWDhxtIM7sE",
        "outputId": "6a7a8cda-788a-46a8-a70e-b64aa1ae8cdb"
      },
      "id": "RAWDhxtIM7sE",
      "execution_count": null,
      "outputs": [
        {
          "output_type": "execute_result",
          "data": {
            "text/plain": [
              "       Флаг дозвона  Флаг продажи       Расходы            PV           NPV\n",
              "count  72161.000000  72161.000000  72161.000000  72161.000000  72161.000000\n",
              "mean       0.599881      0.302172    200.581547    482.041352    281.459805\n",
              "std        0.489926      0.459202    363.748786    814.227243    677.664908\n",
              "min        0.000000      0.000000      0.000000      0.000000  -4406.000000\n",
              "25%        0.000000      0.000000     21.000000      0.000000    -54.000000\n",
              "50%        1.000000      0.000000     59.000000      0.000000    -18.000000\n",
              "75%        1.000000      1.000000    182.000000   1258.000000    535.000000\n",
              "max        1.000000      1.000000   6280.000000  41255.000000  41144.000000"
            ],
            "text/html": [
              "\n",
              "  <div id=\"df-c352d783-f4b1-449a-ad00-24cc6356b126\">\n",
              "    <div class=\"colab-df-container\">\n",
              "      <div>\n",
              "<style scoped>\n",
              "    .dataframe tbody tr th:only-of-type {\n",
              "        vertical-align: middle;\n",
              "    }\n",
              "\n",
              "    .dataframe tbody tr th {\n",
              "        vertical-align: top;\n",
              "    }\n",
              "\n",
              "    .dataframe thead th {\n",
              "        text-align: right;\n",
              "    }\n",
              "</style>\n",
              "<table border=\"1\" class=\"dataframe\">\n",
              "  <thead>\n",
              "    <tr style=\"text-align: right;\">\n",
              "      <th></th>\n",
              "      <th>Флаг дозвона</th>\n",
              "      <th>Флаг продажи</th>\n",
              "      <th>Расходы</th>\n",
              "      <th>PV</th>\n",
              "      <th>NPV</th>\n",
              "    </tr>\n",
              "  </thead>\n",
              "  <tbody>\n",
              "    <tr>\n",
              "      <th>count</th>\n",
              "      <td>72161.000000</td>\n",
              "      <td>72161.000000</td>\n",
              "      <td>72161.000000</td>\n",
              "      <td>72161.000000</td>\n",
              "      <td>72161.000000</td>\n",
              "    </tr>\n",
              "    <tr>\n",
              "      <th>mean</th>\n",
              "      <td>0.599881</td>\n",
              "      <td>0.302172</td>\n",
              "      <td>200.581547</td>\n",
              "      <td>482.041352</td>\n",
              "      <td>281.459805</td>\n",
              "    </tr>\n",
              "    <tr>\n",
              "      <th>std</th>\n",
              "      <td>0.489926</td>\n",
              "      <td>0.459202</td>\n",
              "      <td>363.748786</td>\n",
              "      <td>814.227243</td>\n",
              "      <td>677.664908</td>\n",
              "    </tr>\n",
              "    <tr>\n",
              "      <th>min</th>\n",
              "      <td>0.000000</td>\n",
              "      <td>0.000000</td>\n",
              "      <td>0.000000</td>\n",
              "      <td>0.000000</td>\n",
              "      <td>-4406.000000</td>\n",
              "    </tr>\n",
              "    <tr>\n",
              "      <th>25%</th>\n",
              "      <td>0.000000</td>\n",
              "      <td>0.000000</td>\n",
              "      <td>21.000000</td>\n",
              "      <td>0.000000</td>\n",
              "      <td>-54.000000</td>\n",
              "    </tr>\n",
              "    <tr>\n",
              "      <th>50%</th>\n",
              "      <td>1.000000</td>\n",
              "      <td>0.000000</td>\n",
              "      <td>59.000000</td>\n",
              "      <td>0.000000</td>\n",
              "      <td>-18.000000</td>\n",
              "    </tr>\n",
              "    <tr>\n",
              "      <th>75%</th>\n",
              "      <td>1.000000</td>\n",
              "      <td>1.000000</td>\n",
              "      <td>182.000000</td>\n",
              "      <td>1258.000000</td>\n",
              "      <td>535.000000</td>\n",
              "    </tr>\n",
              "    <tr>\n",
              "      <th>max</th>\n",
              "      <td>1.000000</td>\n",
              "      <td>1.000000</td>\n",
              "      <td>6280.000000</td>\n",
              "      <td>41255.000000</td>\n",
              "      <td>41144.000000</td>\n",
              "    </tr>\n",
              "  </tbody>\n",
              "</table>\n",
              "</div>\n",
              "      <button class=\"colab-df-convert\" onclick=\"convertToInteractive('df-c352d783-f4b1-449a-ad00-24cc6356b126')\"\n",
              "              title=\"Convert this dataframe to an interactive table.\"\n",
              "              style=\"display:none;\">\n",
              "        \n",
              "  <svg xmlns=\"http://www.w3.org/2000/svg\" height=\"24px\"viewBox=\"0 0 24 24\"\n",
              "       width=\"24px\">\n",
              "    <path d=\"M0 0h24v24H0V0z\" fill=\"none\"/>\n",
              "    <path d=\"M18.56 5.44l.94 2.06.94-2.06 2.06-.94-2.06-.94-.94-2.06-.94 2.06-2.06.94zm-11 1L8.5 8.5l.94-2.06 2.06-.94-2.06-.94L8.5 2.5l-.94 2.06-2.06.94zm10 10l.94 2.06.94-2.06 2.06-.94-2.06-.94-.94-2.06-.94 2.06-2.06.94z\"/><path d=\"M17.41 7.96l-1.37-1.37c-.4-.4-.92-.59-1.43-.59-.52 0-1.04.2-1.43.59L10.3 9.45l-7.72 7.72c-.78.78-.78 2.05 0 2.83L4 21.41c.39.39.9.59 1.41.59.51 0 1.02-.2 1.41-.59l7.78-7.78 2.81-2.81c.8-.78.8-2.07 0-2.86zM5.41 20L4 18.59l7.72-7.72 1.47 1.35L5.41 20z\"/>\n",
              "  </svg>\n",
              "      </button>\n",
              "      \n",
              "  <style>\n",
              "    .colab-df-container {\n",
              "      display:flex;\n",
              "      flex-wrap:wrap;\n",
              "      gap: 12px;\n",
              "    }\n",
              "\n",
              "    .colab-df-convert {\n",
              "      background-color: #E8F0FE;\n",
              "      border: none;\n",
              "      border-radius: 50%;\n",
              "      cursor: pointer;\n",
              "      display: none;\n",
              "      fill: #1967D2;\n",
              "      height: 32px;\n",
              "      padding: 0 0 0 0;\n",
              "      width: 32px;\n",
              "    }\n",
              "\n",
              "    .colab-df-convert:hover {\n",
              "      background-color: #E2EBFA;\n",
              "      box-shadow: 0px 1px 2px rgba(60, 64, 67, 0.3), 0px 1px 3px 1px rgba(60, 64, 67, 0.15);\n",
              "      fill: #174EA6;\n",
              "    }\n",
              "\n",
              "    [theme=dark] .colab-df-convert {\n",
              "      background-color: #3B4455;\n",
              "      fill: #D2E3FC;\n",
              "    }\n",
              "\n",
              "    [theme=dark] .colab-df-convert:hover {\n",
              "      background-color: #434B5C;\n",
              "      box-shadow: 0px 1px 3px 1px rgba(0, 0, 0, 0.15);\n",
              "      filter: drop-shadow(0px 1px 2px rgba(0, 0, 0, 0.3));\n",
              "      fill: #FFFFFF;\n",
              "    }\n",
              "  </style>\n",
              "\n",
              "      <script>\n",
              "        const buttonEl =\n",
              "          document.querySelector('#df-c352d783-f4b1-449a-ad00-24cc6356b126 button.colab-df-convert');\n",
              "        buttonEl.style.display =\n",
              "          google.colab.kernel.accessAllowed ? 'block' : 'none';\n",
              "\n",
              "        async function convertToInteractive(key) {\n",
              "          const element = document.querySelector('#df-c352d783-f4b1-449a-ad00-24cc6356b126');\n",
              "          const dataTable =\n",
              "            await google.colab.kernel.invokeFunction('convertToInteractive',\n",
              "                                                     [key], {});\n",
              "          if (!dataTable) return;\n",
              "\n",
              "          const docLinkHtml = 'Like what you see? Visit the ' +\n",
              "            '<a target=\"_blank\" href=https://colab.research.google.com/notebooks/data_table.ipynb>data table notebook</a>'\n",
              "            + ' to learn more about interactive tables.';\n",
              "          element.innerHTML = '';\n",
              "          dataTable['output_type'] = 'display_data';\n",
              "          await google.colab.output.renderOutput(dataTable, element);\n",
              "          const docLink = document.createElement('div');\n",
              "          docLink.innerHTML = docLinkHtml;\n",
              "          element.appendChild(docLink);\n",
              "        }\n",
              "      </script>\n",
              "    </div>\n",
              "  </div>\n",
              "  "
            ]
          },
          "metadata": {},
          "execution_count": 33
        }
      ]
    },
    {
      "cell_type": "markdown",
      "source": [
        "\n",
        "**Описание колонок в исторических данных.**\n",
        "\n",
        "*   **ID** - номер задания на звонок\n",
        "*   **Флаг дозвона** - 1 если в рамках задания мы дозвонились человеку, иначе 0\n",
        "* **Флаг продажи** - 1 если в рамках задания мы продали наш продукт человеку, иначе 0\n",
        "* **Расходы** - сумма затрат на задание\n",
        "* **PV** - 0 если мы не продали наш продукт, иначе = PV проданного продукта\n",
        "* **NPV** = PV - Расходы"
      ],
      "metadata": {
        "id": "OvYCsC61RsZB"
      },
      "id": "OvYCsC61RsZB"
    },
    {
      "cell_type": "markdown",
      "source": [
        "По условию задачи из приведенных столбцов необходимо выбрать целевую метрику.\\\n",
        "Напомним, что **целевая метрика** - это метрика, на основе которой мы принимаем решение."
      ],
      "metadata": {
        "id": "4Awo_49fR8mN"
      },
      "id": "4Awo_49fR8mN"
    },
    {
      "cell_type": "markdown",
      "id": "0dd4c840",
      "metadata": {
        "id": "0dd4c840"
      },
      "source": [
        "### 1. Необходимо выбрать метрику и привести аргументацию."
      ]
    },
    {
      "cell_type": "markdown",
      "source": [
        "У нас есть гипотеза о том, что уменьшение цены продукта позволит \n",
        "повысить **частоту продаж** и суммарно **увеличит доходность продукта**.\\\n",
        "И решением \"в лоб\" было бы просто замерить изменение частоты продаж, т.е. *флаг продажи*, но эта метрика не учитывает доходность продукта, \n",
        "а считается, что лучшая метрика продукта это та, которая \"ближе к деньгам\",\n",
        "поэтому лучше отслеживать более \"финансовую\" метрику (NPV или PV).\n",
        "Самой оптимальной целевой метрикой будет **NPV** *(\"Net Present Value\")*, так как эта метрика позволит оценить эффективность изменения цены продукта на основе его доходности, учитывая затраты на продажу."
      ],
      "metadata": {
        "id": "MR466ve8VWCl"
      },
      "id": "MR466ve8VWCl"
    },
    {
      "cell_type": "code",
      "source": [
        "target_metric = \"NPV\""
      ],
      "metadata": {
        "id": "vG7kmtMEjHOU"
      },
      "id": "vG7kmtMEjHOU",
      "execution_count": null,
      "outputs": []
    },
    {
      "cell_type": "markdown",
      "source": [
        "#### Для корректной работы с датасетом, произведем его предварительный анализ."
      ],
      "metadata": {
        "id": "hTx-YHVErjCU"
      },
      "id": "hTx-YHVErjCU"
    },
    {
      "cell_type": "code",
      "source": [
        "print(f'Размерность датасета: {df.shape}')\n",
        "print()\n",
        "print('Типы данных в столбцах:')\n",
        "print(df.dtypes)"
      ],
      "metadata": {
        "colab": {
          "base_uri": "https://localhost:8080/"
        },
        "id": "HB1JZvbqroxQ",
        "outputId": "cc3519ff-29fe-406a-d4c7-4d774d613e9d"
      },
      "id": "HB1JZvbqroxQ",
      "execution_count": null,
      "outputs": [
        {
          "output_type": "stream",
          "name": "stdout",
          "text": [
            "Размерность датасета: (72161, 5)\n",
            "\n",
            "Типы данных в столбцах:\n",
            "Флаг дозвона    int64\n",
            "Флаг продажи    int64\n",
            "Расходы         int64\n",
            "PV              int64\n",
            "NPV             int64\n",
            "dtype: object\n"
          ]
        }
      ]
    },
    {
      "cell_type": "markdown",
      "source": [
        "Проверим пропуски в столбцах.\n",
        "\n"
      ],
      "metadata": {
        "id": "suNI4SRKskVT"
      },
      "id": "suNI4SRKskVT"
    },
    {
      "cell_type": "code",
      "source": [
        "for col in df.columns:\n",
        "    pct_missing = np.mean(df[col].isnull())\n",
        "    print('{} - {}%'.format(col, round(pct_missing*100)))"
      ],
      "metadata": {
        "colab": {
          "base_uri": "https://localhost:8080/"
        },
        "id": "8f5aumcpsbuP",
        "outputId": "995ece56-b19e-4343-f83b-dd501d08c88d"
      },
      "id": "8f5aumcpsbuP",
      "execution_count": null,
      "outputs": [
        {
          "output_type": "stream",
          "name": "stdout",
          "text": [
            "Флаг дозвона - 0%\n",
            "Флаг продажи - 0%\n",
            "Расходы - 0%\n",
            "PV - 0%\n",
            "NPV - 0%\n"
          ]
        }
      ]
    },
    {
      "cell_type": "markdown",
      "source": [
        "Посмотрим как распределены значения в столбце \"NPV\"."
      ],
      "metadata": {
        "id": "g7Tfyuwd2HAg"
      },
      "id": "g7Tfyuwd2HAg"
    },
    {
      "cell_type": "code",
      "source": [
        "df['NPV'].plot(title = 'График распределения NPV по ID заданий', ylabel = 'NPV')"
      ],
      "metadata": {
        "colab": {
          "base_uri": "https://localhost:8080/",
          "height": 489
        },
        "id": "ri47r2X-1JtG",
        "outputId": "fb0f0bff-3b5d-435e-fa37-4c31a3d99954"
      },
      "id": "ri47r2X-1JtG",
      "execution_count": null,
      "outputs": [
        {
          "output_type": "execute_result",
          "data": {
            "text/plain": [
              "<Axes: title={'center': 'График распределения NPV по ID заданий'}, xlabel='ID', ylabel='NPV'>"
            ]
          },
          "metadata": {},
          "execution_count": 37
        },
        {
          "output_type": "display_data",
          "data": {
            "text/plain": [
              "<Figure size 640x480 with 1 Axes>"
            ],
            "image/png": "[encoded data removed]"
          },
          "metadata": {}
        }
      ]
    },
    {
      "cell_type": "code",
      "source": [
        "df['NPV'].hist(bins=50)"
      ],
      "metadata": {
        "colab": {
          "base_uri": "https://localhost:8080/",
          "height": 447
        },
        "id": "QAZlr0dJlb1e",
        "outputId": "9b89b1fa-9ec6-428e-95df-55b1596c9ac3"
      },
      "id": "QAZlr0dJlb1e",
      "execution_count": null,
      "outputs": [
        {
          "output_type": "execute_result",
          "data": {
            "text/plain": [
              "<Axes: >"
            ]
          },
          "metadata": {},
          "execution_count": 38
        },
        {
          "output_type": "display_data",
          "data": {
            "text/plain": [
              "<Figure size 640x480 with 1 Axes>"
            ],
            "image/png": "[encoded data removed]"
          },
          "metadata": {}
        }
      ]
    },
    {
      "cell_type": "code",
      "source": [
        "df['NPV'].value_counts().hist(bins=50)"
      ],
      "metadata": {
        "colab": {
          "base_uri": "https://localhost:8080/",
          "height": 447
        },
        "id": "zTFuH1ssi1JZ",
        "outputId": "6a2a6dfc-aba7-4516-a2a1-0d1f11747195"
      },
      "id": "zTFuH1ssi1JZ",
      "execution_count": null,
      "outputs": [
        {
          "output_type": "execute_result",
          "data": {
            "text/plain": [
              "<Axes: >"
            ]
          },
          "metadata": {},
          "execution_count": 39
        },
        {
          "output_type": "display_data",
          "data": {
            "text/plain": [
              "<Figure size 640x480 with 1 Axes>"
            ],
            "image/png": "[encoded data removed]"
          },
          "metadata": {}
        }
      ]
    },
    {
      "cell_type": "markdown",
      "source": [
        "В графике NPV от ID имеются некоторые значения, сильно отличные от общего числа."
      ],
      "metadata": {
        "id": "KreQj43g4HUb"
      },
      "id": "KreQj43g4HUb"
    },
    {
      "cell_type": "code",
      "source": [
        "df.loc[df['NPV'].idxmax()]"
      ],
      "metadata": {
        "colab": {
          "base_uri": "https://localhost:8080/"
        },
        "id": "8K69sXn11NDL",
        "outputId": "8259ca60-4426-4041-8854-e4973637d4f3"
      },
      "id": "8K69sXn11NDL",
      "execution_count": null,
      "outputs": [
        {
          "output_type": "execute_result",
          "data": {
            "text/plain": [
              "Флаг дозвона        1\n",
              "Флаг продажи        1\n",
              "Расходы           111\n",
              "PV              41255\n",
              "NPV             41144\n",
              "Name: 64928, dtype: int64"
            ]
          },
          "metadata": {},
          "execution_count": 40
        }
      ]
    },
    {
      "cell_type": "markdown",
      "source": [
        "Особых оснований отбрасывать \"условные выбросы\" у нас нет, флаг дозвона = 1, флаг продажи = 1, значит логика прослеживается."
      ],
      "metadata": {
        "id": "FiU7xFCm4PB_"
      },
      "id": "FiU7xFCm4PB_"
    },
    {
      "cell_type": "markdown",
      "id": "b644cd0a",
      "metadata": {
        "id": "b644cd0a"
      },
      "source": [
        "### 2. Альтернатива в критерии."
      ]
    },
    {
      "cell_type": "markdown",
      "source": [
        "**Нулевая гипотеза** утверждает о том, что измение цены продукта, не окажет статистически значимого эффекта на метрику NPV по сравнению с контрольной группой.\\\n",
        "**Альтернативная гипотеза** утверждает, что изменения среднего метрики в тестовой группе будут носить положительный характер, т.е. *среднее по метрике в тестовой группе* будет **больше** *среднего по метрике в контрольной группе*."
      ],
      "metadata": {
        "id": "CeazWwa9eYdT"
      },
      "id": "CeazWwa9eYdT"
    },
    {
      "cell_type": "code",
      "source": [
        "alternative = 'mu_control < mu_test' # односторонняя альтернатива"
      ],
      "metadata": {
        "id": "hstBOQyhHYOo"
      },
      "id": "hstBOQyhHYOo",
      "execution_count": null,
      "outputs": []
    },
    {
      "cell_type": "markdown",
      "id": "727aefc4",
      "metadata": {
        "id": "727aefc4"
      },
      "source": [
        "### 3.1. Каков размер выборки? Привести аргументацию и написать как получилось то или иное число."
      ]
    },
    {
      "cell_type": "markdown",
      "source": [
        "Для определения размера выборкии нам необходимы следующие параметры:\n",
        "\n",
        "\n",
        "1.   MDE (Minimum Detectable Effect) — минимальная разница в метрике, которую хотим заметить: uplift * среднее значение метрики в исторических данных;\n",
        "2.   uplift — % изменения целевой метрики (в нашем случае 5% или 0.05);\n",
        "3. std — стандартное отклонение метрики в исторических данных;\n",
        "4. z_alpha — z значеие, относящееся к вероятности совершить ошибку первого рода (в нашем случае alpha = 5% (0.05));\n",
        "5. z_beta — z значеие, относящееся к вероятности совершить ошибку второго рода (в нашем случае beta = 20% (0.2));\n",
        "\n",
        "\n"
      ],
      "metadata": {
        "id": "qj9EfBkOPgSk"
      },
      "id": "qj9EfBkOPgSk"
    },
    {
      "cell_type": "markdown",
      "source": [
        "Произведем расчет размера выборки."
      ],
      "metadata": {
        "id": "aC3aqZk3YhAg"
      },
      "id": "aC3aqZk3YhAg"
    },
    {
      "cell_type": "markdown",
      "source": [
        "Опредеим MDE."
      ],
      "metadata": {
        "id": "NbTreSxKWHTM"
      },
      "id": "NbTreSxKWHTM"
    },
    {
      "cell_type": "code",
      "source": [
        "uplift = 0.05 # 5%-ое увеличение метрики\n",
        "mde = df['NPV'].mean() * uplift\n",
        "print(round(mde, 3))"
      ],
      "metadata": {
        "id": "fYijOurfjLNp",
        "colab": {
          "base_uri": "https://localhost:8080/"
        },
        "outputId": "5d6e38b5-3e17-4ef1-fdb2-bf65e002e4f1"
      },
      "id": "fYijOurfjLNp",
      "execution_count": null,
      "outputs": [
        {
          "output_type": "stream",
          "name": "stdout",
          "text": [
            "14.073\n"
          ]
        }
      ]
    },
    {
      "cell_type": "markdown",
      "source": [
        "Определим среднеквадратическое отклонение."
      ],
      "metadata": {
        "id": "w16YMhpOWLSE"
      },
      "id": "w16YMhpOWLSE"
    },
    {
      "cell_type": "code",
      "source": [
        "std = df['NPV'].std().round(3)\n",
        "std"
      ],
      "metadata": {
        "colab": {
          "base_uri": "https://localhost:8080/"
        },
        "id": "gvYBmKwHDOcH",
        "outputId": "c85501c3-7736-450d-ce2a-d43153748396"
      },
      "id": "gvYBmKwHDOcH",
      "execution_count": null,
      "outputs": [
        {
          "output_type": "execute_result",
          "data": {
            "text/plain": [
              "677.665"
            ]
          },
          "metadata": {},
          "execution_count": 43
        }
      ]
    },
    {
      "cell_type": "markdown",
      "source": [
        "Определим критические значения для Z."
      ],
      "metadata": {
        "id": "04EDXWGMWObC"
      },
      "id": "04EDXWGMWObC"
    },
    {
      "cell_type": "code",
      "source": [
        "z_1_alpha = norm.ppf(1-.05) # alpha = 5% (0.05)\n",
        "z_1_alpha"
      ],
      "metadata": {
        "colab": {
          "base_uri": "https://localhost:8080/"
        },
        "id": "lLL-FAyulo4s",
        "outputId": "a0af9649-8d6b-46ad-b48d-cabbd45a19d0"
      },
      "id": "lLL-FAyulo4s",
      "execution_count": null,
      "outputs": [
        {
          "output_type": "execute_result",
          "data": {
            "text/plain": [
              "1.6448536269514722"
            ]
          },
          "metadata": {},
          "execution_count": 44
        }
      ]
    },
    {
      "cell_type": "code",
      "source": [
        "z_beta = norm.ppf(0.2) # beta = 20% (0.2)\n",
        "z_beta"
      ],
      "metadata": {
        "colab": {
          "base_uri": "https://localhost:8080/"
        },
        "id": "ZWrc7xQ2qQyu",
        "outputId": "674a2588-1547-4bd7-d888-920a147b188f"
      },
      "id": "ZWrc7xQ2qQyu",
      "execution_count": null,
      "outputs": [
        {
          "output_type": "execute_result",
          "data": {
            "text/plain": [
              "-0.8416212335729142"
            ]
          },
          "metadata": {},
          "execution_count": 45
        }
      ]
    },
    {
      "cell_type": "markdown",
      "source": [
        "Определим размер выборки."
      ],
      "metadata": {
        "id": "ZkLOHTIGWTMl"
      },
      "id": "ZkLOHTIGWTMl"
    },
    {
      "cell_type": "code",
      "source": [
        "def sample_size(std, mde, z_alpha, z_beta):\n",
        "  '''\n",
        "  Функция расчета размера небинарной выборки (односторонняя альтернатива)\n",
        "  аргументы функции:\n",
        "  z_alpha - критическое значение z для z(1-alpha);\n",
        "  z_neta - критическое значение z для z(beta);\n",
        "  std - срендеквадратичное отклонение;\n",
        "  mde - MDE (Minimum Detectable Effect)\n",
        "  '''\n",
        "  n = (2 * (std ** 2) * (z_alpha - z_beta) ** 2) / (mde ** 2)\n",
        "  return n"
      ],
      "metadata": {
        "id": "8CWG0l2a5IFL"
      },
      "id": "8CWG0l2a5IFL",
      "execution_count": null,
      "outputs": []
    },
    {
      "cell_type": "code",
      "source": [
        "print(f'Необходимый размер выборок n и m = {round(sample_size(std, mde, z_1_alpha, z_beta),0)} наблюдений')"
      ],
      "metadata": {
        "colab": {
          "base_uri": "https://localhost:8080/"
        },
        "id": "pvqF-k8E51v2",
        "outputId": "bf335e26-e65e-449c-e105-f3cf11190610"
      },
      "id": "pvqF-k8E51v2",
      "execution_count": null,
      "outputs": [
        {
          "output_type": "stream",
          "name": "stdout",
          "text": [
            "Необходимый размер выборок n и m = 28672.0 наблюдений\n"
          ]
        }
      ]
    },
    {
      "cell_type": "markdown",
      "id": "8df8ee73",
      "metadata": {
        "id": "8df8ee73"
      },
      "source": [
        "### 3.2. Необходимо запросить у бота в Телеграме выборку полученного размера командой `/get_project1_sample {размер выборки}` и вписать <ins>код выборки</ins>:"
      ]
    },
    {
      "cell_type": "code",
      "source": [
        "sample_code = 18899 #Код выборки"
      ],
      "metadata": {
        "id": "9vCrM3wcjM0H"
      },
      "id": "9vCrM3wcjM0H",
      "execution_count": null,
      "outputs": []
    },
    {
      "cell_type": "markdown",
      "id": "22e2d9b0",
      "metadata": {
        "id": "22e2d9b0"
      },
      "source": [
        "### 4. Принятие решения. Расписать подробно с аргументами."
      ]
    },
    {
      "cell_type": "markdown",
      "source": [
        "#### Загрузка контрольной и тестовой выборок."
      ],
      "metadata": {
        "id": "FbZSjlqNvrWG"
      },
      "id": "FbZSjlqNvrWG"
    },
    {
      "cell_type": "markdown",
      "source": [
        "Подгрузим сгенерированные ботом выборки, оставим в выборках только столбец с интересующей нас метрикой."
      ],
      "metadata": {
        "id": "oHMCLNm329A0"
      },
      "id": "oHMCLNm329A0"
    },
    {
      "cell_type": "code",
      "source": [
        "control = pd.read_csv('gdrive/My Drive/Контроль.csv')\n",
        "control = control.NPV\n",
        "test = pd.read_csv('gdrive/My Drive/Тест.csv')\n",
        "test = test.NPV"
      ],
      "metadata": {
        "id": "C9NO-_o3jON1"
      },
      "id": "C9NO-_o3jON1",
      "execution_count": null,
      "outputs": []
    },
    {
      "cell_type": "markdown",
      "source": [
        "Посмотрим, как все подгрузилось."
      ],
      "metadata": {
        "id": "yqc8bvHcv2jh"
      },
      "id": "yqc8bvHcv2jh"
    },
    {
      "cell_type": "code",
      "source": [
        "control.head()"
      ],
      "metadata": {
        "colab": {
          "base_uri": "https://localhost:8080/"
        },
        "id": "QMzA1THHvkh8",
        "outputId": "8f1677a3-3e2f-4fee-fc1d-0d6fbae97b88"
      },
      "id": "QMzA1THHvkh8",
      "execution_count": null,
      "outputs": [
        {
          "output_type": "execute_result",
          "data": {
            "text/plain": [
              "0    -129\n",
              "1    1252\n",
              "2    1205\n",
              "3      -4\n",
              "4    1086\n",
              "Name: NPV, dtype: int64"
            ]
          },
          "metadata": {},
          "execution_count": 50
        }
      ]
    },
    {
      "cell_type": "code",
      "source": [
        "test.head()"
      ],
      "metadata": {
        "colab": {
          "base_uri": "https://localhost:8080/"
        },
        "id": "VaNr7kwfvmfj",
        "outputId": "efb9acd5-fee2-44e9-f273-0c741bcc4bc8"
      },
      "id": "VaNr7kwfvmfj",
      "execution_count": null,
      "outputs": [
        {
          "output_type": "execute_result",
          "data": {
            "text/plain": [
              "0    -52\n",
              "1    -14\n",
              "2      0\n",
              "3    943\n",
              "4    -11\n",
              "Name: NPV, dtype: int64"
            ]
          },
          "metadata": {},
          "execution_count": 51
        }
      ]
    },
    {
      "cell_type": "markdown",
      "source": [
        "#### Проверка Stability index выборок.\n"
      ],
      "metadata": {
        "id": "ZyNyXKVH3Ruh"
      },
      "id": "ZyNyXKVH3Ruh"
    },
    {
      "cell_type": "markdown",
      "source": [
        "Проверим **репрезентативность** наших контрольной и тестовой выборок.\\\n",
        "*Замечание*: Функция не моя.\\\n",
        "Взято отсюда:\\\n",
        "https://github.com/mwburke/population-stability-index"
      ],
      "metadata": {
        "id": "hZHAZxt42tpW"
      },
      "id": "hZHAZxt42tpW"
    },
    {
      "cell_type": "code",
      "source": [
        "def calculate_psi(expected, actual, buckettype='bins', buckets=10, axis=0):\n",
        "    '''Calculate the PSI (population stability index) across all variables\n",
        "\n",
        "    Args:\n",
        "       expected: numpy matrix of original values\n",
        "       actual: numpy matrix of new values, same size as expected\n",
        "       buckettype: type of strategy for creating buckets, bins splits into even splits, quantiles splits into quantile buckets\n",
        "       buckets: number of quantiles to use in bucketing variables\n",
        "       axis: axis by which variables are defined, 0 for vertical, 1 for horizontal\n",
        "\n",
        "    Returns:\n",
        "       psi_values: ndarray of psi values for each variable\n",
        "\n",
        "    Author:\n",
        "       Matthew Burke\n",
        "       github.com/mwburke\n",
        "       worksofchart.com\n",
        "    '''\n",
        "\n",
        "    def psi(expected_array, actual_array, buckets):\n",
        "        '''Calculate the PSI for a single variable\n",
        "\n",
        "        Args:\n",
        "           expected_array: numpy array of original values\n",
        "           actual_array: numpy array of new values, same size as expected\n",
        "           buckets: number of percentile ranges to bucket the values into\n",
        "\n",
        "        Returns:\n",
        "           psi_value: calculated PSI value\n",
        "        '''\n",
        "\n",
        "        def scale_range (input, min, max):\n",
        "            input += -(np.min(input))\n",
        "            input /= np.max(input) / (max - min)\n",
        "            input += min\n",
        "            return input\n",
        "\n",
        "\n",
        "        breakpoints = np.arange(0, buckets + 1) / (buckets) * 100\n",
        "\n",
        "        if buckettype == 'bins':\n",
        "            breakpoints = scale_range(breakpoints, np.min(expected_array), np.max(expected_array))\n",
        "        elif buckettype == 'quantiles':\n",
        "            breakpoints = np.stack([np.percentile(expected_array, b) for b in breakpoints])\n",
        "\n",
        "\n",
        "\n",
        "        expected_percents = np.histogram(expected_array, breakpoints)[0] / len(expected_array)\n",
        "        actual_percents = np.histogram(actual_array, breakpoints)[0] / len(actual_array)\n",
        "\n",
        "        def sub_psi(e_perc, a_perc):\n",
        "            '''Calculate the actual PSI value from comparing the values.\n",
        "               Update the actual value to a very small number if equal to zero\n",
        "            '''\n",
        "            if a_perc == 0:\n",
        "                a_perc = 0.0001\n",
        "            if e_perc == 0:\n",
        "                e_perc = 0.0001\n",
        "\n",
        "            value = (e_perc - a_perc) * np.log(e_perc / a_perc)\n",
        "            return(value)\n",
        "\n",
        "        psi_value = np.sum(sub_psi(expected_percents[i], actual_percents[i]) for i in range(0, len(expected_percents)))\n",
        "\n",
        "        return(psi_value)\n",
        "\n",
        "    if len(expected.shape) == 1:\n",
        "        psi_values = np.empty(len(expected.shape))\n",
        "    else:\n",
        "        psi_values = np.empty(expected.shape[axis])\n",
        "\n",
        "    for i in range(0, len(psi_values)):\n",
        "        if len(psi_values) == 1:\n",
        "            psi_values = psi(expected, actual, buckets)\n",
        "        elif axis == 0:\n",
        "            psi_values[i] = psi(expected[:,i], actual[:,i], buckets)\n",
        "        elif axis == 1:\n",
        "            psi_values[i] = psi(expected[i,:], actual[i,:], buckets)\n",
        "\n",
        "    return(psi_values)"
      ],
      "metadata": {
        "id": "7pJHgV943WkM"
      },
      "id": "7pJHgV943WkM",
      "execution_count": null,
      "outputs": []
    },
    {
      "cell_type": "code",
      "source": [
        "si = calculate_psi(control, test)\n",
        "print(f'Stability Index = {round(si, 4)}')\n",
        "if si < 0.1:\n",
        "  print(f'В выборке отстуствуют значимые изменения.')\n",
        "elif 0.1 <= si < 0.2:\n",
        "  print(f'В выборке имеются незначительные изменения, которые необходимо исследовать.')\n",
        "else:\n",
        "  print(f'В выборке имеется существенное смещение, необходимы изменения, в идеале не использовать выборку.')"
      ],
      "metadata": {
        "colab": {
          "base_uri": "https://localhost:8080/"
        },
        "id": "8qMZEV9H3aTT",
        "outputId": "b167256b-7a54-4217-c2f5-e0c9d954363c"
      },
      "id": "8qMZEV9H3aTT",
      "execution_count": null,
      "outputs": [
        {
          "output_type": "stream",
          "name": "stdout",
          "text": [
            "Stability Index = 0.0016\n",
            "В выборке отстуствуют значимые изменения.\n"
          ]
        }
      ]
    },
    {
      "cell_type": "markdown",
      "source": [
        "#### Выбор и применение статистического критерия."
      ],
      "metadata": {
        "id": "PLV9ZDEmv6G7"
      },
      "id": "PLV9ZDEmv6G7"
    },
    {
      "cell_type": "markdown",
      "source": [
        "Поскольку имеем небинарное распределение, выборки независимые, будем использовать **\"t-критерий оценки Стьюдента (двухвыборочный)\"**."
      ],
      "metadata": {
        "id": "M0loZS_M20cT"
      },
      "id": "M0loZS_M20cT"
    },
    {
      "cell_type": "markdown",
      "source": [
        "Проверим, сработает ли корректно критерий на А/А тесте."
      ],
      "metadata": {
        "id": "dakonqAY1R5E"
      },
      "id": "dakonqAY1R5E"
    },
    {
      "cell_type": "code",
      "source": [
        "ttest_ind(control, control, equal_var=False) "
      ],
      "metadata": {
        "colab": {
          "base_uri": "https://localhost:8080/"
        },
        "id": "vKSR_y7j1NCi",
        "outputId": "9bf780b4-b103-47ee-d80c-cd82d7a231de"
      },
      "id": "vKSR_y7j1NCi",
      "execution_count": null,
      "outputs": [
        {
          "output_type": "execute_result",
          "data": {
            "text/plain": [
              "Ttest_indResult(statistic=0.0, pvalue=1.0)"
            ]
          },
          "metadata": {},
          "execution_count": 54
        }
      ]
    },
    {
      "cell_type": "markdown",
      "source": [
        "Критерий работает корректно, он показал, что p_value = 1, это означает, что выборки идентичны."
      ],
      "metadata": {
        "id": "O6996hcrsi3J"
      },
      "id": "O6996hcrsi3J"
    },
    {
      "cell_type": "markdown",
      "source": [
        "Проверим наши выборки:"
      ],
      "metadata": {
        "id": "YJeckVT31cmm"
      },
      "id": "YJeckVT31cmm"
    },
    {
      "cell_type": "code",
      "source": [
        "alpha = 0.05\n",
        "results = ttest_ind(\n",
        "    control, \n",
        "    test,\n",
        "    equal_var=False,\n",
        "    alternative='less') #‘less’: the mean of the distribution underlying the first sample is less than the mean of the distribution underlying the second sample.\n",
        "\n",
        "print(f'p-value = {round(results.pvalue, 4)}')\n",
        "print('===========================')\n",
        "\n",
        "if round(results.pvalue, 4) < alpha:\n",
        "    print(\"Отвергаем нулевую гипотезу в пользу альтернативной гипотезы, имеются статзначимые ризличия в группах.\")\n",
        "else:\n",
        "    print(\"Нулевая гипотеза не отвергается и статзначимых различий в группах нет.\")"
      ],
      "metadata": {
        "colab": {
          "base_uri": "https://localhost:8080/"
        },
        "id": "6nGZAgp0-Kq2",
        "outputId": "e115f346-fb2c-4ed0-8601-56a54f22662d"
      },
      "id": "6nGZAgp0-Kq2",
      "execution_count": null,
      "outputs": [
        {
          "output_type": "stream",
          "name": "stdout",
          "text": [
            "p-value = 0.0177\n",
            "===========================\n",
            "Отвергаем нулевую гипотезу в пользу альтернативной гипотезы, имеются статзначимые ризличия в группах.\n"
          ]
        }
      ]
    },
    {
      "cell_type": "markdown",
      "source": [
        "#### Выводы:\n"
      ],
      "metadata": {
        "id": "feYGhJfx8mp-"
      },
      "id": "feYGhJfx8mp-"
    },
    {
      "cell_type": "markdown",
      "source": [
        "* Мы видим, что p_value = 0.0177 < alpha = 0.05, следовательно нулевая \n",
        "гипотеза H0 о том, что статистически-значимых изменений в группах не будет, **отвергается** в пользу альтернативной гипотезы о наличии в тестовой выборке статзначимых изменений (**увеличения** среднего в метрике NPV с (как минимум) минимально-ожидаемым эффектом) для уровня значимости alpha = 5% и мощности (1-beta) = 80%.\n",
        "* Таким образом, опираясь на результаты теста мы принимаем решение (или даем рекомендацию) уменьшить цену продукта, в виду того, что это окажет статзначимый эффект на увеличение доходности продукта.\n",
        "* Повысить чувствительность теста можно, например удалив выбросы в данных (но желательно не более 1%  наблюдений), либо уменьшив дисперсию (CUPED/CUPAC методы)."
      ],
      "metadata": {
        "id": "ssn32cB_3ncl"
      },
      "id": "ssn32cB_3ncl"
    },
    {
      "cell_type": "markdown",
      "source": [
        "========================"
      ],
      "metadata": {
        "id": "3jSraSf2SvrZ"
      },
      "id": "3jSraSf2SvrZ"
    },
    {
      "cell_type": "markdown",
      "source": [
        "#### Эксперимент №1 \"Чистка данных\"."
      ],
      "metadata": {
        "id": "bhFSq4SMSlxo"
      },
      "id": "bhFSq4SMSlxo"
    },
    {
      "cell_type": "markdown",
      "source": [
        "В качестве эксперимента посмотрим, что будет, если мы очистим исторические данные от \"условных выбросов\" методом межквартильного интервала."
      ],
      "metadata": {
        "id": "aFqrNBbV4IRY"
      },
      "id": "aFqrNBbV4IRY"
    },
    {
      "cell_type": "markdown",
      "source": [
        "Создадим копию исходного датасета исторических данных."
      ],
      "metadata": {
        "id": "2VqsxwIAZ9AH"
      },
      "id": "2VqsxwIAZ9AH"
    },
    {
      "cell_type": "code",
      "source": [
        "df_2 = df.copy()"
      ],
      "metadata": {
        "id": "VNlCX_jsOYGm"
      },
      "id": "VNlCX_jsOYGm",
      "execution_count": null,
      "outputs": []
    },
    {
      "cell_type": "code",
      "source": [
        "df_2.info()"
      ],
      "metadata": {
        "colab": {
          "base_uri": "https://localhost:8080/"
        },
        "id": "yBgLTFocS14N",
        "outputId": "18594ad9-76c0-405c-c355-5cf009de531c"
      },
      "id": "yBgLTFocS14N",
      "execution_count": null,
      "outputs": [
        {
          "output_type": "stream",
          "name": "stdout",
          "text": [
            "<class 'pandas.core.frame.DataFrame'>\n",
            "Int64Index: 72161 entries, 0 to 72160\n",
            "Data columns (total 5 columns):\n",
            " #   Column        Non-Null Count  Dtype\n",
            "---  ------        --------------  -----\n",
            " 0   Флаг дозвона  72161 non-null  int64\n",
            " 1   Флаг продажи  72161 non-null  int64\n",
            " 2   Расходы       72161 non-null  int64\n",
            " 3   PV            72161 non-null  int64\n",
            " 4   NPV           72161 non-null  int64\n",
            "dtypes: int64(5)\n",
            "memory usage: 5.3 MB\n"
          ]
        }
      ]
    },
    {
      "cell_type": "markdown",
      "source": [
        "Очистим данные от выбросов методом межквартильного интервала."
      ],
      "metadata": {
        "id": "iKmQqV4aTBgT"
      },
      "id": "iKmQqV4aTBgT"
    },
    {
      "cell_type": "code",
      "source": [
        "Q1 = df_2['NPV'].quantile(0.25)\n",
        "Q3 = df_2['NPV'].quantile(0.75)\n",
        "IQR = Q3 - Q1\n",
        "df_clean = df_2[(df_2['NPV'] >= Q1 - 1.5*IQR) & (df_2['NPV'] <= Q3 + 1.5*IQR)]"
      ],
      "metadata": {
        "id": "qEtoMQOjOr8g"
      },
      "id": "qEtoMQOjOr8g",
      "execution_count": null,
      "outputs": []
    },
    {
      "cell_type": "markdown",
      "source": [
        "Посмотрим размерность датасета. Сырой датасет был размерностью (72161, 5)."
      ],
      "metadata": {
        "id": "LVDomRHGTGGo"
      },
      "id": "LVDomRHGTGGo"
    },
    {
      "cell_type": "code",
      "source": [
        "df_clean.shape"
      ],
      "metadata": {
        "colab": {
          "base_uri": "https://localhost:8080/"
        },
        "id": "X96cSk-SPY5m",
        "outputId": "a7fc3a26-9f4e-4329-c424-148c9d42dc65"
      },
      "id": "X96cSk-SPY5m",
      "execution_count": null,
      "outputs": [
        {
          "output_type": "execute_result",
          "data": {
            "text/plain": [
              "(67579, 5)"
            ]
          },
          "metadata": {},
          "execution_count": 59
        }
      ]
    },
    {
      "cell_type": "markdown",
      "source": [
        "Посмотрим параметры для определения выборки."
      ],
      "metadata": {
        "id": "SjFvUgHrZk5L"
      },
      "id": "SjFvUgHrZk5L"
    },
    {
      "cell_type": "markdown",
      "source": [
        "Определим MDE."
      ],
      "metadata": {
        "id": "PggiDObEavee"
      },
      "id": "PggiDObEavee"
    },
    {
      "cell_type": "code",
      "source": [
        "uplift = 0.05\n",
        "mde_clean = df_clean['NPV'].mean() * uplift\n",
        "print(round(mde_clean, 3))"
      ],
      "metadata": {
        "colab": {
          "base_uri": "https://localhost:8080/"
        },
        "id": "rhKFgmniaD74",
        "outputId": "c67a5ec8-cb60-4912-a161-3bcacc473bcd"
      },
      "id": "rhKFgmniaD74",
      "execution_count": null,
      "outputs": [
        {
          "output_type": "stream",
          "name": "stdout",
          "text": [
            "8.799\n"
          ]
        }
      ]
    },
    {
      "cell_type": "markdown",
      "source": [
        "Определим СКО для \"очищенной\" выборки."
      ],
      "metadata": {
        "id": "ps8-Paedaujq"
      },
      "id": "ps8-Paedaujq"
    },
    {
      "cell_type": "code",
      "source": [
        "std_clean = df_clean['NPV'].std().round(3)\n",
        "std_clean"
      ],
      "metadata": {
        "colab": {
          "base_uri": "https://localhost:8080/"
        },
        "id": "e3gdaZP3aWYm",
        "outputId": "fafed66e-d203-46cb-f2a1-d3290e3a4c0a"
      },
      "id": "e3gdaZP3aWYm",
      "execution_count": null,
      "outputs": [
        {
          "output_type": "execute_result",
          "data": {
            "text/plain": [
              "448.708"
            ]
          },
          "metadata": {},
          "execution_count": 61
        }
      ]
    },
    {
      "cell_type": "markdown",
      "source": [
        "Посмотрим, какой размер выборки необходим для теста (на основе очищенных исторических данных)."
      ],
      "metadata": {
        "id": "uuATDIOCalGm"
      },
      "id": "uuATDIOCalGm"
    },
    {
      "cell_type": "code",
      "source": [
        "print(f'Необходимый размер выборок n и m = {round(sample_size(std_clean, mde_clean, z_1_alpha, z_beta),0)} наблюдений')"
      ],
      "metadata": {
        "colab": {
          "base_uri": "https://localhost:8080/"
        },
        "id": "kG5ekcuWakAC",
        "outputId": "6017e878-d1a2-4d8d-ae67-d2c366e745fb"
      },
      "id": "kG5ekcuWakAC",
      "execution_count": null,
      "outputs": [
        {
          "output_type": "stream",
          "name": "stdout",
          "text": [
            "Необходимый размер выборок n и m = 32156.0 наблюдений\n"
          ]
        }
      ]
    },
    {
      "cell_type": "markdown",
      "source": [
        "**Вывод:**\\\n",
        "Мы удалили больше 6% значений из исторических данных (6.34%), это достаточно много и среди этих значений могли быть важные для эксперимента данные. Серьезно изменились параметры для определения размера выборки и, как следствие, изменился размер выборки для теста и контроля. В данный момент нельзя утверждать, что данная операция по очистке данных необходима. Нужно детально рассматривать историческую выборку."
      ],
      "metadata": {
        "id": "Iu_yZ6AhTqSN"
      },
      "id": "Iu_yZ6AhTqSN"
    },
    {
      "cell_type": "markdown",
      "source": [
        "#### Эксперимент №2. \"Нормальность ГС и выборок. Критерий по итогу проверки\"."
      ],
      "metadata": {
        "id": "UJJEIaNba_r8"
      },
      "id": "UJJEIaNba_r8"
    },
    {
      "cell_type": "markdown",
      "source": [
        "При решении задания №1 не была проведена проверка на нормальность значений в генеральной совокупности и в выборках из нее (этого не требовало задание), но хотелось бы посмотреть: Возможно ли определить нормальность и как дальше с этими данными работать?"
      ],
      "metadata": {
        "id": "WWeXrF2TbFD8"
      },
      "id": "WWeXrF2TbFD8"
    },
    {
      "cell_type": "markdown",
      "source": [
        "Попробуем сформулировать гипотезу о нормальности распределения значений метрики NPV.\\\n",
        "**Нулевая гипотеза** будет звучать так: Предполагаем, что значения в исторических данных (NPV) распределены по нормальному закону.\\\n",
        "**Альтернативная гипотеза:** Распределение значений не является нормальным.\\\n",
        "Уровень значимости примем 5%.\\\n",
        "Для проверки нормальности распределения применим **критетий Шапиро-Уилка**."
      ],
      "metadata": {
        "id": "Y7NrmtK2bX_d"
      },
      "id": "Y7NrmtK2bX_d"
    },
    {
      "cell_type": "code",
      "source": [
        "p_value_norm = shapiro(df['NPV']).pvalue\n",
        "print(f'p_value = {p_value_norm}')\n",
        "print('==============')\n",
        "\n",
        "if (p_value_norm < 0.05):\n",
        "    print(\"Отвергаем нулевую гипотезу в пользу альтернативной гипотезы, распределение значений не является нормальным.\")\n",
        "else:\n",
        "    print(\"Нулевая гипотеза не отвергается. Данные распределены по нормальному закону.\")"
      ],
      "metadata": {
        "colab": {
          "base_uri": "https://localhost:8080/"
        },
        "id": "lDIh-53jbXp8",
        "outputId": "9e1849d4-aae2-4b71-96e9-8da9205c232a"
      },
      "id": "lDIh-53jbXp8",
      "execution_count": null,
      "outputs": [
        {
          "output_type": "stream",
          "name": "stdout",
          "text": [
            "p_value = 0.0\n",
            "==============\n",
            "Отвергаем нулевую гипотезу в пользу альтернативной гипотезы, распределение значений не является нормальным.\n"
          ]
        }
      ]
    },
    {
      "cell_type": "markdown",
      "source": [
        "Поскольку тест Шапиро-Уилка показал, что данные получены не из нормального распределения, мы в дальнейшем будем учитывать факт того, что мы **не знаем распределение значений генеральной совокупности**."
      ],
      "metadata": {
        "id": "cSHXeCZRbtjq"
      },
      "id": "cSHXeCZRbtjq"
    },
    {
      "cell_type": "markdown",
      "source": [
        "Логично предположить, что если значения в генеральной совокупности не распределены по нормальному закону, то и выборки из нее так же не будут иметь нормального распределения, но проверим это утверждение."
      ],
      "metadata": {
        "id": "dfs87nFpbwc7"
      },
      "id": "dfs87nFpbwc7"
    },
    {
      "cell_type": "code",
      "source": [
        "for sample in (test, control):\n",
        "  p_value_norm = shapiro(sample).pvalue\n",
        "  print(f'p_value = {p_value_norm}')\n",
        "  print('==============')\n",
        "\n",
        "  if (p_value_norm < 0.05):\n",
        "      print(\"Отвергаем нулевую гипотезу в пользу альтернативной гипотезы, распределение значений не является нормальным.\")\n",
        "  else:\n",
        "      print(\"Нулевая гипотеза не отвергается. Данные распределены по нормальному закону.\")"
      ],
      "metadata": {
        "colab": {
          "base_uri": "https://localhost:8080/"
        },
        "id": "7MXBj0Z5cBCZ",
        "outputId": "3bf9460b-5352-400e-c46d-8e4c935a0801"
      },
      "id": "7MXBj0Z5cBCZ",
      "execution_count": null,
      "outputs": [
        {
          "output_type": "stream",
          "name": "stdout",
          "text": [
            "p_value = 0.0\n",
            "==============\n",
            "Отвергаем нулевую гипотезу в пользу альтернативной гипотезы, распределение значений не является нормальным.\n",
            "p_value = 0.0\n",
            "==============\n",
            "Отвергаем нулевую гипотезу в пользу альтернативной гипотезы, распределение значений не является нормальным.\n"
          ]
        }
      ]
    },
    {
      "cell_type": "markdown",
      "source": [
        "В виду того, что мы отвергли нулевую гипотезу о нормальном законе распределения в выборках и не знаем распределение данных, применять t-тест стоит с осторожностью. Для выборок, у которых не известно распределение, рекомендется применять непараметрический **U-критерий Манна-Уитни**.\\\n",
        "Проверим работу данного критерия на наших выборках."
      ],
      "metadata": {
        "id": "SbEFzUbpddre"
      },
      "id": "SbEFzUbpddre"
    },
    {
      "cell_type": "code",
      "source": [
        "mannwhitneyu_res = mannwhitneyu(control, test, alternative='less')\n",
        "\n",
        "print(f'p-value = {round(mannwhitneyu_res.pvalue, 4)}')\n",
        "print('===========================')\n",
        "\n",
        "if round(mannwhitneyu_res.pvalue, 4) < 0.05:\n",
        "    print(\"Отвергаем нулевую гипотезу в пользу альтернативной гипотезы, имеются статзначимые ризличия в группах.\")\n",
        "else:\n",
        "    print(\"Нулевая гипотеза не отвергается и статзначимых различий в группах нет.\")"
      ],
      "metadata": {
        "colab": {
          "base_uri": "https://localhost:8080/"
        },
        "id": "CgABKbWce8Bu",
        "outputId": "d1734413-4303-4320-f90b-279ad14096a8"
      },
      "id": "CgABKbWce8Bu",
      "execution_count": null,
      "outputs": [
        {
          "output_type": "stream",
          "name": "stdout",
          "text": [
            "p-value = 0.0756\n",
            "===========================\n",
            "Нулевая гипотеза не отвергается и статзначимых различий в группах нет.\n"
          ]
        }
      ]
    },
    {
      "cell_type": "markdown",
      "source": [
        "**Вывод:**\\\n",
        "Интересный вывод получен по итогу работы u-критерия Манна-Уитни. Данный критерий указывает на то, что **статзначимых различий между выборками нет**.\n",
        "Возможно, это связано с тем, что была не до конца понята работа критерия и некоторые параметры, которые присутствуют в критерии, не были учтены как положено. Необходимо детально разбираться в работе критерия."
      ],
      "metadata": {
        "id": "N_aYm5puggbf"
      },
      "id": "N_aYm5puggbf"
    },
    {
      "cell_type": "markdown",
      "id": "f9e15111",
      "metadata": {
        "id": "f9e15111"
      },
      "source": [
        "------------------"
      ]
    },
    {
      "cell_type": "markdown",
      "id": "7ea196b1",
      "metadata": {
        "id": "7ea196b1"
      },
      "source": [
        "##  <ins>Задание 2.</ins>"
      ]
    },
    {
      "cell_type": "markdown",
      "source": [
        "### 0. Запосить у бота в Телеграме условие командой `/get_project2_desc`."
      ],
      "metadata": {
        "id": "M0mI4jfTkCk6"
      },
      "id": "M0mI4jfTkCk6"
    },
    {
      "cell_type": "markdown",
      "source": [
        "**Контекст**\\\n",
        "Мы провели Cust Dev и поняли,\n",
        "что форма авторизации для клиента сложна,\n",
        "и из-за этого часть клиентов\n",
        "отваливается в заявочном процессе.\\\n",
        "Мы решили разработать\n",
        "новый процесс авторизации,\n",
        "и у нас есть гипотеза,\n",
        "что он позволит повысить\n",
        "утилизации наших счетов.\n",
        "        \n",
        "**Тест**\\\n",
        "Мы проводим тест,\n",
        "в рамках которого мы разбиваем весь поток\n",
        "на две части рановероятно,\n",
        "где у одной части (контроля) \n",
        "старый процесс авторизации,\n",
        "а у второй части (теста) - новый.\\\n",
        "Целью этого теста\n",
        "является **повышение утилизаций счёта**.\n",
        "\n",
        "**Статистические вводные**\\\n",
        "Проверка однородности выбранного параметра\n",
        "осуществяется с уровнем значимости 2%.\\\n",
        "Уровень значимости 5%.\\\n",
        "Мы хотели бы различать 3%-ное\n",
        "изменение целевой метрики\n",
        "с вероятностью 95%."
      ],
      "metadata": {
        "id": "J1uuRI3Vb2yL"
      },
      "id": "J1uuRI3Vb2yL"
    },
    {
      "cell_type": "markdown",
      "source": [
        "**Описание данных**\n",
        "\n",
        "*Процесс оформления кредитной карты (КК) устроен следующим образом:*\n",
        "\n",
        "1. человек заходит на сайт и заполняет информацию о себе (в том числе возраст и \n",
        "доход клиента) для получения кредитной карты;\n",
        "2. человек проходит скоринг (в том числе в рамках которого оценивается вероятность банкротства клиента);\n",
        "3. создаётся заявка на оформление кредитной карты;\n",
        "4. человеку выпускается виртуальная карта, а также предлагается наша услуга к этому счёту;\n",
        "5. с некоторой вероятностью человек утилизирует счёт (начинает им пользоваться);\n",
        "6. если человек не утилизирует счёт, мы несём некоторые затраты на время оператора и поддержку инфраструктуры;\n",
        "7. если человек утилизировал карту, мы имеем некоторый заработок (PV) и повышенные расходы."
      ],
      "metadata": {
        "id": "Ycxll3egcz0J"
      },
      "id": "Ycxll3egcz0J"
    },
    {
      "cell_type": "markdown",
      "source": [
        "Подгрузим исторические данные."
      ],
      "metadata": {
        "id": "cv0xsAzheR-k"
      },
      "id": "cv0xsAzheR-k"
    },
    {
      "cell_type": "code",
      "source": [
        "data = pd.read_csv('gdrive/My Drive/hist_credit_card.csv', index_col = 'ID')"
      ],
      "metadata": {
        "id": "CJR1n6h-eWHd"
      },
      "id": "CJR1n6h-eWHd",
      "execution_count": null,
      "outputs": []
    },
    {
      "cell_type": "markdown",
      "source": [
        "Осмотрим датасет."
      ],
      "metadata": {
        "id": "Y7jsbnTPfFmn"
      },
      "id": "Y7jsbnTPfFmn"
    },
    {
      "cell_type": "code",
      "source": [
        "data.head(10)"
      ],
      "metadata": {
        "colab": {
          "base_uri": "https://localhost:8080/",
          "height": 394
        },
        "id": "uVTMFNS1e3rd",
        "outputId": "2392b8f3-cbde-4ea8-f2e0-5e4de1d326f8"
      },
      "id": "uVTMFNS1e3rd",
      "execution_count": null,
      "outputs": [
        {
          "output_type": "execute_result",
          "data": {
            "text/plain": [
              "    Возраст  Доход клиента  Вероятность банкротства  Флаг утилизации счёта  \\\n",
              "ID                                                                           \n",
              "0        19   21620.835463                 0.138061                      0   \n",
              "1        27   24897.990863                 0.035508                      1   \n",
              "2        50   23989.526947                 0.098793                      0   \n",
              "3        18   38442.409756                 0.365661                      1   \n",
              "4        24   21291.521612                 0.036909                      1   \n",
              "5        19   22957.947147                 0.021514                      1   \n",
              "6        27   22217.477344                 0.319460                      0   \n",
              "7        46   29584.430233                 0.324886                      1   \n",
              "8        27   21730.692059                 0.254344                      1   \n",
              "9        41   34909.175512                 0.017871                      1   \n",
              "\n",
              "    Расходы  PV КК  PV услуги    NPV  \n",
              "ID                                    \n",
              "0       102      0          0   -102  \n",
              "1       409  11686       1754  13031  \n",
              "2        16      0          0    -16  \n",
              "3       788  13738       1578  14528  \n",
              "4      1048   6594       2213   7759  \n",
              "5       110  33316       1692  34898  \n",
              "6        57      0          0    -57  \n",
              "7       371   5859       2529   8017  \n",
              "8       712   9981       3758  13027  \n",
              "9       131   8794       5315  13978  "
            ],
            "text/html": [
              "\n",
              "  <div id=\"df-56bd2cfe-1c3d-45c3-8cb9-c547787f67fa\">\n",
              "    <div class=\"colab-df-container\">\n",
              "      <div>\n",
              "<style scoped>\n",
              "    .dataframe tbody tr th:only-of-type {\n",
              "        vertical-align: middle;\n",
              "    }\n",
              "\n",
              "    .dataframe tbody tr th {\n",
              "        vertical-align: top;\n",
              "    }\n",
              "\n",
              "    .dataframe thead th {\n",
              "        text-align: right;\n",
              "    }\n",
              "</style>\n",
              "<table border=\"1\" class=\"dataframe\">\n",
              "  <thead>\n",
              "    <tr style=\"text-align: right;\">\n",
              "      <th></th>\n",
              "      <th>Возраст</th>\n",
              "      <th>Доход клиента</th>\n",
              "      <th>Вероятность банкротства</th>\n",
              "      <th>Флаг утилизации счёта</th>\n",
              "      <th>Расходы</th>\n",
              "      <th>PV КК</th>\n",
              "      <th>PV услуги</th>\n",
              "      <th>NPV</th>\n",
              "    </tr>\n",
              "    <tr>\n",
              "      <th>ID</th>\n",
              "      <th></th>\n",
              "      <th></th>\n",
              "      <th></th>\n",
              "      <th></th>\n",
              "      <th></th>\n",
              "      <th></th>\n",
              "      <th></th>\n",
              "      <th></th>\n",
              "    </tr>\n",
              "  </thead>\n",
              "  <tbody>\n",
              "    <tr>\n",
              "      <th>0</th>\n",
              "      <td>19</td>\n",
              "      <td>21620.835463</td>\n",
              "      <td>0.138061</td>\n",
              "      <td>0</td>\n",
              "      <td>102</td>\n",
              "      <td>0</td>\n",
              "      <td>0</td>\n",
              "      <td>-102</td>\n",
              "    </tr>\n",
              "    <tr>\n",
              "      <th>1</th>\n",
              "      <td>27</td>\n",
              "      <td>24897.990863</td>\n",
              "      <td>0.035508</td>\n",
              "      <td>1</td>\n",
              "      <td>409</td>\n",
              "      <td>11686</td>\n",
              "      <td>1754</td>\n",
              "      <td>13031</td>\n",
              "    </tr>\n",
              "    <tr>\n",
              "      <th>2</th>\n",
              "      <td>50</td>\n",
              "      <td>23989.526947</td>\n",
              "      <td>0.098793</td>\n",
              "      <td>0</td>\n",
              "      <td>16</td>\n",
              "      <td>0</td>\n",
              "      <td>0</td>\n",
              "      <td>-16</td>\n",
              "    </tr>\n",
              "    <tr>\n",
              "      <th>3</th>\n",
              "      <td>18</td>\n",
              "      <td>38442.409756</td>\n",
              "      <td>0.365661</td>\n",
              "      <td>1</td>\n",
              "      <td>788</td>\n",
              "      <td>13738</td>\n",
              "      <td>1578</td>\n",
              "      <td>14528</td>\n",
              "    </tr>\n",
              "    <tr>\n",
              "      <th>4</th>\n",
              "      <td>24</td>\n",
              "      <td>21291.521612</td>\n",
              "      <td>0.036909</td>\n",
              "      <td>1</td>\n",
              "      <td>1048</td>\n",
              "      <td>6594</td>\n",
              "      <td>2213</td>\n",
              "      <td>7759</td>\n",
              "    </tr>\n",
              "    <tr>\n",
              "      <th>5</th>\n",
              "      <td>19</td>\n",
              "      <td>22957.947147</td>\n",
              "      <td>0.021514</td>\n",
              "      <td>1</td>\n",
              "      <td>110</td>\n",
              "      <td>33316</td>\n",
              "      <td>1692</td>\n",
              "      <td>34898</td>\n",
              "    </tr>\n",
              "    <tr>\n",
              "      <th>6</th>\n",
              "      <td>27</td>\n",
              "      <td>22217.477344</td>\n",
              "      <td>0.319460</td>\n",
              "      <td>0</td>\n",
              "      <td>57</td>\n",
              "      <td>0</td>\n",
              "      <td>0</td>\n",
              "      <td>-57</td>\n",
              "    </tr>\n",
              "    <tr>\n",
              "      <th>7</th>\n",
              "      <td>46</td>\n",
              "      <td>29584.430233</td>\n",
              "      <td>0.324886</td>\n",
              "      <td>1</td>\n",
              "      <td>371</td>\n",
              "      <td>5859</td>\n",
              "      <td>2529</td>\n",
              "      <td>8017</td>\n",
              "    </tr>\n",
              "    <tr>\n",
              "      <th>8</th>\n",
              "      <td>27</td>\n",
              "      <td>21730.692059</td>\n",
              "      <td>0.254344</td>\n",
              "      <td>1</td>\n",
              "      <td>712</td>\n",
              "      <td>9981</td>\n",
              "      <td>3758</td>\n",
              "      <td>13027</td>\n",
              "    </tr>\n",
              "    <tr>\n",
              "      <th>9</th>\n",
              "      <td>41</td>\n",
              "      <td>34909.175512</td>\n",
              "      <td>0.017871</td>\n",
              "      <td>1</td>\n",
              "      <td>131</td>\n",
              "      <td>8794</td>\n",
              "      <td>5315</td>\n",
              "      <td>13978</td>\n",
              "    </tr>\n",
              "  </tbody>\n",
              "</table>\n",
              "</div>\n",
              "      <button class=\"colab-df-convert\" onclick=\"convertToInteractive('df-56bd2cfe-1c3d-45c3-8cb9-c547787f67fa')\"\n",
              "              title=\"Convert this dataframe to an interactive table.\"\n",
              "              style=\"display:none;\">\n",
              "        \n",
              "  <svg xmlns=\"http://www.w3.org/2000/svg\" height=\"24px\"viewBox=\"0 0 24 24\"\n",
              "       width=\"24px\">\n",
              "    <path d=\"M0 0h24v24H0V0z\" fill=\"none\"/>\n",
              "    <path d=\"M18.56 5.44l.94 2.06.94-2.06 2.06-.94-2.06-.94-.94-2.06-.94 2.06-2.06.94zm-11 1L8.5 8.5l.94-2.06 2.06-.94-2.06-.94L8.5 2.5l-.94 2.06-2.06.94zm10 10l.94 2.06.94-2.06 2.06-.94-2.06-.94-.94-2.06-.94 2.06-2.06.94z\"/><path d=\"M17.41 7.96l-1.37-1.37c-.4-.4-.92-.59-1.43-.59-.52 0-1.04.2-1.43.59L10.3 9.45l-7.72 7.72c-.78.78-.78 2.05 0 2.83L4 21.41c.39.39.9.59 1.41.59.51 0 1.02-.2 1.41-.59l7.78-7.78 2.81-2.81c.8-.78.8-2.07 0-2.86zM5.41 20L4 18.59l7.72-7.72 1.47 1.35L5.41 20z\"/>\n",
              "  </svg>\n",
              "      </button>\n",
              "      \n",
              "  <style>\n",
              "    .colab-df-container {\n",
              "      display:flex;\n",
              "      flex-wrap:wrap;\n",
              "      gap: 12px;\n",
              "    }\n",
              "\n",
              "    .colab-df-convert {\n",
              "      background-color: #E8F0FE;\n",
              "      border: none;\n",
              "      border-radius: 50%;\n",
              "      cursor: pointer;\n",
              "      display: none;\n",
              "      fill: #1967D2;\n",
              "      height: 32px;\n",
              "      padding: 0 0 0 0;\n",
              "      width: 32px;\n",
              "    }\n",
              "\n",
              "    .colab-df-convert:hover {\n",
              "      background-color: #E2EBFA;\n",
              "      box-shadow: 0px 1px 2px rgba(60, 64, 67, 0.3), 0px 1px 3px 1px rgba(60, 64, 67, 0.15);\n",
              "      fill: #174EA6;\n",
              "    }\n",
              "\n",
              "    [theme=dark] .colab-df-convert {\n",
              "      background-color: #3B4455;\n",
              "      fill: #D2E3FC;\n",
              "    }\n",
              "\n",
              "    [theme=dark] .colab-df-convert:hover {\n",
              "      background-color: #434B5C;\n",
              "      box-shadow: 0px 1px 3px 1px rgba(0, 0, 0, 0.15);\n",
              "      filter: drop-shadow(0px 1px 2px rgba(0, 0, 0, 0.3));\n",
              "      fill: #FFFFFF;\n",
              "    }\n",
              "  </style>\n",
              "\n",
              "      <script>\n",
              "        const buttonEl =\n",
              "          document.querySelector('#df-56bd2cfe-1c3d-45c3-8cb9-c547787f67fa button.colab-df-convert');\n",
              "        buttonEl.style.display =\n",
              "          google.colab.kernel.accessAllowed ? 'block' : 'none';\n",
              "\n",
              "        async function convertToInteractive(key) {\n",
              "          const element = document.querySelector('#df-56bd2cfe-1c3d-45c3-8cb9-c547787f67fa');\n",
              "          const dataTable =\n",
              "            await google.colab.kernel.invokeFunction('convertToInteractive',\n",
              "                                                     [key], {});\n",
              "          if (!dataTable) return;\n",
              "\n",
              "          const docLinkHtml = 'Like what you see? Visit the ' +\n",
              "            '<a target=\"_blank\" href=https://colab.research.google.com/notebooks/data_table.ipynb>data table notebook</a>'\n",
              "            + ' to learn more about interactive tables.';\n",
              "          element.innerHTML = '';\n",
              "          dataTable['output_type'] = 'display_data';\n",
              "          await google.colab.output.renderOutput(dataTable, element);\n",
              "          const docLink = document.createElement('div');\n",
              "          docLink.innerHTML = docLinkHtml;\n",
              "          element.appendChild(docLink);\n",
              "        }\n",
              "      </script>\n",
              "    </div>\n",
              "  </div>\n",
              "  "
            ]
          },
          "metadata": {},
          "execution_count": 67
        }
      ]
    },
    {
      "cell_type": "markdown",
      "source": [
        "Посмотрим численное и текстовое описания колонок ."
      ],
      "metadata": {
        "id": "PpZNzC29fM0a"
      },
      "id": "PpZNzC29fM0a"
    },
    {
      "cell_type": "markdown",
      "source": [
        "**Описание колонок в исторических данных.**\n",
        "\n",
        "* **ID** - номер заявки, прошедшей скоринг\n",
        "* **Возраст** - возраст клиента, указанный при оформлении КК\n",
        "* **Доход клиента** - доход клиента, указанный при оформлении КК\n",
        "* **Вероятность банкротства** - оценка вероятности банкротства клиента, полученная с помощью скоринга по параметрам клиента\n",
        "* **Флаг утилизация счёта** - совершение первой расходной операции на счёте КК\n",
        "* **Расходы** - сумма затрат на заявку\n",
        "* **PV КК** - 0 если счёт не утилизирован, иначе = PV кредитной карты\n",
        "* **PV услуги** - 0 если счёт не утилизирован, иначе = PV этой услуги\n",
        "* **NPV** = PV КК + PV услуги - Расходы"
      ],
      "metadata": {
        "id": "plv0jYuhfSKB"
      },
      "id": "plv0jYuhfSKB"
    },
    {
      "cell_type": "markdown",
      "id": "e4691844",
      "metadata": {
        "id": "e4691844"
      },
      "source": [
        "### 1. Необходимо выбрать метрику и привести аргументацию."
      ]
    },
    {
      "cell_type": "markdown",
      "source": [
        "У нас есть гипотеза о том, что новый процесс авторизации **позволит повысить утилизации наших счетов** и мы проводим тест, в рамках которого проверяем повышение утилизации счета. Опираясь на это, рационально в качестве *целевой метрики* рассматривать столбец **Флаг утилизации счета**."
      ],
      "metadata": {
        "id": "oT2VZR0Eiluy"
      },
      "id": "oT2VZR0Eiluy"
    },
    {
      "cell_type": "code",
      "source": [
        "target_metric_2 = \"Флаг утилизации счета\""
      ],
      "metadata": {
        "id": "Q3Zae2tSjQFW"
      },
      "id": "Q3Zae2tSjQFW",
      "execution_count": null,
      "outputs": []
    },
    {
      "cell_type": "markdown",
      "source": [
        "Проведем краткий анализ датасета с историческими данными."
      ],
      "metadata": {
        "id": "HH75qqFLl9KG"
      },
      "id": "HH75qqFLl9KG"
    },
    {
      "cell_type": "code",
      "source": [
        "print(f'Размерность датасета: {data.shape}')\n",
        "print()\n",
        "print('Типы данных в столбцах:')\n",
        "print(data.dtypes)"
      ],
      "metadata": {
        "id": "qkjZp0bCmAp6",
        "colab": {
          "base_uri": "https://localhost:8080/"
        },
        "outputId": "43a50e2e-ed13-4954-b695-20c40f07e1fc"
      },
      "id": "qkjZp0bCmAp6",
      "execution_count": null,
      "outputs": [
        {
          "output_type": "stream",
          "name": "stdout",
          "text": [
            "Размерность датасета: (123255, 8)\n",
            "\n",
            "Типы данных в столбцах:\n",
            "Возраст                      int64\n",
            "Доход клиента              float64\n",
            "Вероятность банкротства    float64\n",
            "Флаг утилизации счёта        int64\n",
            "Расходы                      int64\n",
            "PV КК                        int64\n",
            "PV услуги                    int64\n",
            "NPV                          int64\n",
            "dtype: object\n"
          ]
        }
      ]
    },
    {
      "cell_type": "markdown",
      "source": [
        "Проверим пропуски в столбцах."
      ],
      "metadata": {
        "id": "T5180HvGw0Xq"
      },
      "id": "T5180HvGw0Xq"
    },
    {
      "cell_type": "code",
      "source": [
        "for col in data.columns:\n",
        "    pct_missing = np.mean(data[col].isnull())\n",
        "    print('{} - {}%'.format(col, round(pct_missing*100)))"
      ],
      "metadata": {
        "colab": {
          "base_uri": "https://localhost:8080/"
        },
        "id": "1gxgsZ-ew3RR",
        "outputId": "b1ab9517-88e7-484d-fec6-91b9d7b09a72"
      },
      "id": "1gxgsZ-ew3RR",
      "execution_count": null,
      "outputs": [
        {
          "output_type": "stream",
          "name": "stdout",
          "text": [
            "Возраст - 0%\n",
            "Доход клиента - 0%\n",
            "Вероятность банкротства - 0%\n",
            "Флаг утилизации счёта - 0%\n",
            "Расходы - 0%\n",
            "PV КК - 0%\n",
            "PV услуги - 0%\n",
            "NPV - 0%\n"
          ]
        }
      ]
    },
    {
      "cell_type": "code",
      "source": [
        "data['Флаг утилизации счёта'].value_counts()"
      ],
      "metadata": {
        "colab": {
          "base_uri": "https://localhost:8080/"
        },
        "id": "QyEzwTfqyUjV",
        "outputId": "524d28ad-d264-4e5d-8992-84b2259669eb"
      },
      "id": "QyEzwTfqyUjV",
      "execution_count": null,
      "outputs": [
        {
          "output_type": "execute_result",
          "data": {
            "text/plain": [
              "1    91399\n",
              "0    31856\n",
              "Name: Флаг утилизации счёта, dtype: int64"
            ]
          },
          "metadata": {},
          "execution_count": 71
        }
      ]
    },
    {
      "cell_type": "markdown",
      "source": [
        "Посмотрим на графики данных."
      ],
      "metadata": {
        "id": "044aBjOFyawP"
      },
      "id": "044aBjOFyawP"
    },
    {
      "cell_type": "code",
      "source": [
        "sns.histplot(data=data['Флаг утилизации счёта'], bins=3)"
      ],
      "metadata": {
        "colab": {
          "base_uri": "https://localhost:8080/",
          "height": 466
        },
        "id": "c4mqYiEssYVk",
        "outputId": "01b65201-a58c-4d98-bb3a-6c95f19095bd"
      },
      "id": "c4mqYiEssYVk",
      "execution_count": null,
      "outputs": [
        {
          "output_type": "execute_result",
          "data": {
            "text/plain": [
              "<Axes: xlabel='Флаг утилизации счёта', ylabel='Count'>"
            ]
          },
          "metadata": {},
          "execution_count": 72
        },
        {
          "output_type": "display_data",
          "data": {
            "text/plain": [
              "<Figure size 640x480 with 1 Axes>"
            ],
            "image/png": "[encoded data removed]"
          },
          "metadata": {}
        }
      ]
    },
    {
      "cell_type": "code",
      "source": [
        "data['Флаг утилизации счёта'].value_counts().plot.pie()"
      ],
      "metadata": {
        "colab": {
          "base_uri": "https://localhost:8080/",
          "height": 423
        },
        "id": "wbN23R7nxpiV",
        "outputId": "dd3837ae-7557-4390-fe6e-83360dab4c59"
      },
      "id": "wbN23R7nxpiV",
      "execution_count": null,
      "outputs": [
        {
          "output_type": "execute_result",
          "data": {
            "text/plain": [
              "<Axes: ylabel='Флаг утилизации счёта'>"
            ]
          },
          "metadata": {},
          "execution_count": 73
        },
        {
          "output_type": "display_data",
          "data": {
            "text/plain": [
              "<Figure size 640x480 with 1 Axes>"
            ],
            "image/png": "[encoded data removed]"
          },
          "metadata": {}
        }
      ]
    },
    {
      "cell_type": "markdown",
      "id": "e36b594c",
      "metadata": {
        "id": "e36b594c"
      },
      "source": [
        "### 2. Альтернатива в критерии."
      ]
    },
    {
      "cell_type": "markdown",
      "source": [
        "**Нулевая гипотеза** утверждает о том, что изменение процесса авторизации не окажет статистически значимого эффекта на позвышение частоты утилизации наших счетов по сравнению с контрольной группой.\\\n",
        "**Альтернативная гипотеза** утверждает о том, что изменение процесса авторизации окажет положительное влияние на частоту утилизаций счета в тестовой группе."
      ],
      "metadata": {
        "id": "EsQj9YW4zuwg"
      },
      "id": "EsQj9YW4zuwg"
    },
    {
      "cell_type": "code",
      "source": [
        "alternative_2 = 'p_control < p_test' # односторонняя альтернатива"
      ],
      "metadata": {
        "id": "pBmniztEjRQP"
      },
      "id": "pBmniztEjRQP",
      "execution_count": null,
      "outputs": []
    },
    {
      "cell_type": "markdown",
      "id": "692b97f3",
      "metadata": {
        "id": "692b97f3"
      },
      "source": [
        "### 3. Нужно выбрать параметр(-ы), влияющий(-ие) на целевую метрику. Привести аргументацию."
      ]
    },
    {
      "cell_type": "markdown",
      "source": [
        "Определим столбцы, которые могут быть рассмотрены как параметры, влияющие на целевую метрику. Поскольку в будущем мы будем проверять выборки на однородность, а в качестве признаков для проверки берут обычно соц-дем, финансовую активность или активность участия в самом продукте, рационально рассмотреть \"нефинансовые для продукта\" параметры такие как:\n",
        "* Возраст;\n",
        "* Доход клиента;\n",
        "* Вероятность банкротства.\n",
        "\n",
        "Зависимость параметров между собой определим с помощью коэффициента корреляции.\\\n",
        "Для наглядности построим тепловую карту корреляции признаков между собой."
      ],
      "metadata": {
        "id": "JSCwS6Re5UDO"
      },
      "id": "JSCwS6Re5UDO"
    },
    {
      "cell_type": "code",
      "source": [
        "corr_matrix = data[['Флаг утилизации счёта', 'Возраст', 'Доход клиента',\t'Вероятность банкротства']].corr(method='pearson') #Смотрим корреляцию по методу Пирсона, т.к. значения выражены в метрических шкалах во всех столбцах."
      ],
      "metadata": {
        "id": "8ESqS2b55dmy"
      },
      "id": "8ESqS2b55dmy",
      "execution_count": null,
      "outputs": []
    },
    {
      "cell_type": "code",
      "source": [
        "sns.heatmap(corr_matrix, annot=True, cmap='coolwarm')"
      ],
      "metadata": {
        "colab": {
          "base_uri": "https://localhost:8080/",
          "height": 629
        },
        "id": "e3vwW-173AOz",
        "outputId": "c0c1aef3-e427-4861-e3d3-d52751821343"
      },
      "id": "e3vwW-173AOz",
      "execution_count": null,
      "outputs": [
        {
          "output_type": "execute_result",
          "data": {
            "text/plain": [
              "<Axes: >"
            ]
          },
          "metadata": {},
          "execution_count": 76
        },
        {
          "output_type": "display_data",
          "data": {
            "text/plain": [
              "<Figure size 640x480 with 2 Axes>"
            ],
            "image/png": "[encoded data removed]"
          },
          "metadata": {}
        }
      ]
    },
    {
      "cell_type": "markdown",
      "source": [
        "Проанализировав тепловую карту можно сделать следующий вывод:\n",
        "Самая большая положительная корреляция с метрикой \"Флаг утилизации счета\" у параметра *Возраст*, однако, самая большая по модулю корреляция с целевой метрикой у параметра *Вероятность банкротства*. Отрицательное значение коэффициента корреляции объесняется логически: Чем выше вероятность банкротства, тем ниже вероятность одобрения крединой карты и, как следствие, утилизации счета (Действительно, что утилизировать, если выдачу карты не одобрили?).\n",
        "Опираясь на вышесказанное примем в качестве параметра, **наиболее** влияющего на целевую метрику, ***Вероятность банкротства***."
      ],
      "metadata": {
        "id": "b-61_mRN0O6L"
      },
      "id": "b-61_mRN0O6L"
    },
    {
      "cell_type": "markdown",
      "id": "9b40ecbb",
      "metadata": {
        "id": "9b40ecbb"
      },
      "source": [
        "### 4.1. Каков размер выборки? Привести аргументацию и написать как получилось то или иное число."
      ]
    },
    {
      "cell_type": "markdown",
      "source": [
        "Для расчета выборки при бинарном распределении метрики (0 и 1) используется формула с базовой конверсией.\n",
        "Определим **базовую конверсию** по столбцу *Флаг утилизации счёта* из исторических данных."
      ],
      "metadata": {
        "id": "RNScSzg52dn6"
      },
      "id": "RNScSzg52dn6"
    },
    {
      "cell_type": "code",
      "source": [
        "p_base = data['Флаг утилизации счёта'].sum() / data['Флаг утилизации счёта'].count()\n",
        "p_base"
      ],
      "metadata": {
        "id": "tk7WBLvmjSnM",
        "colab": {
          "base_uri": "https://localhost:8080/"
        },
        "outputId": "aaf1fc05-98bc-4da1-973b-4e8834d63e9f"
      },
      "id": "tk7WBLvmjSnM",
      "execution_count": null,
      "outputs": [
        {
          "output_type": "execute_result",
          "data": {
            "text/plain": [
              "0.7415439535921463"
            ]
          },
          "metadata": {},
          "execution_count": 77
        }
      ]
    },
    {
      "cell_type": "markdown",
      "source": [
        "Рассчитаем MDE."
      ],
      "metadata": {
        "id": "8RQ_yf06Vyog"
      },
      "id": "8RQ_yf06Vyog"
    },
    {
      "cell_type": "code",
      "source": [
        "uplift = 0.03 #Мы хотим видеть 3%-ое увеличение базовой конверсии\n",
        "mde_2 = uplift * p_base \n",
        "mde_2"
      ],
      "metadata": {
        "colab": {
          "base_uri": "https://localhost:8080/"
        },
        "id": "Fo04OeR9268g",
        "outputId": "e4810f05-2f55-44ad-b967-e1855b9a5bbb"
      },
      "id": "Fo04OeR9268g",
      "execution_count": null,
      "outputs": [
        {
          "output_type": "execute_result",
          "data": {
            "text/plain": [
              "0.02224631860776439"
            ]
          },
          "metadata": {},
          "execution_count": 78
        }
      ]
    },
    {
      "cell_type": "markdown",
      "source": [
        "Опредлим критические значения Z."
      ],
      "metadata": {
        "id": "aV0CcQqPV_S6"
      },
      "id": "aV0CcQqPV_S6"
    },
    {
      "cell_type": "code",
      "source": [
        "z_1_alpha5 = norm.ppf(1-.05) #alpha = 5% (0.05)"
      ],
      "metadata": {
        "id": "zvqp95al4L0t"
      },
      "id": "zvqp95al4L0t",
      "execution_count": null,
      "outputs": []
    },
    {
      "cell_type": "code",
      "source": [
        "z_beta5 = norm.ppf(.05) #beta = 5% (0.05)\n",
        "z_beta5"
      ],
      "metadata": {
        "colab": {
          "base_uri": "https://localhost:8080/"
        },
        "id": "2PS0K2ZF4LrB",
        "outputId": "3080c0a5-3779-416f-b122-50514c23789a"
      },
      "id": "2PS0K2ZF4LrB",
      "execution_count": null,
      "outputs": [
        {
          "output_type": "execute_result",
          "data": {
            "text/plain": [
              "-1.6448536269514729"
            ]
          },
          "metadata": {},
          "execution_count": 80
        }
      ]
    },
    {
      "cell_type": "markdown",
      "source": [
        "Определим размер выборки."
      ],
      "metadata": {
        "id": "eAkY6JmQWrx6"
      },
      "id": "eAkY6JmQWrx6"
    },
    {
      "cell_type": "code",
      "source": [
        "def sample_size_binomial(p_base, mde, z_alpha, z_beta):\n",
        "  '''\n",
        "  Функция расчета размера выборки (односторонняя альтернатива, бинарное распределение)\n",
        "  аргументы функции:\n",
        "  z_alpha - критическое значение z для z(1-alpha);\n",
        "  z_beta - критическое значение z для z(beta);\n",
        "  p_baze - базовая конверсия;\n",
        "  mde - MDE (Minimum Detectable Effect)\n",
        "  '''\n",
        "  n = (2 * p_base * (1 - p_base) * (z_alpha - z_beta) ** 2) / (mde ** 2)\n",
        "  return n"
      ],
      "metadata": {
        "id": "O8LsnU_j4Lm2"
      },
      "id": "O8LsnU_j4Lm2",
      "execution_count": null,
      "outputs": []
    },
    {
      "cell_type": "code",
      "source": [
        "print(f'Необходимый размер выборок n и m = {round(sample_size_binomial(p_base, mde_2, z_1_alpha5, z_beta5),0)} наблюдений.')"
      ],
      "metadata": {
        "colab": {
          "base_uri": "https://localhost:8080/"
        },
        "id": "G3tih8J84LjT",
        "outputId": "e62e7a11-1511-4423-fadc-227ae5cacf30"
      },
      "id": "G3tih8J84LjT",
      "execution_count": null,
      "outputs": [
        {
          "output_type": "stream",
          "name": "stdout",
          "text": [
            "Необходимый размер выборок n и m = 8382.0 наблюдений.\n"
          ]
        }
      ]
    },
    {
      "cell_type": "markdown",
      "id": "b13ea8ee",
      "metadata": {
        "id": "b13ea8ee"
      },
      "source": [
        "### 4.2. Необходимо запросить у бота в Телеграме выборку полученного размера командой `/get_project2_sample {размер выборки}` и вписать <ins>код выборки</ins>:"
      ]
    },
    {
      "cell_type": "code",
      "source": [
        "sample_code_2 = 10092 #Код выборки"
      ],
      "metadata": {
        "id": "F5c-oqIBjVJS"
      },
      "id": "F5c-oqIBjVJS",
      "execution_count": null,
      "outputs": []
    },
    {
      "cell_type": "markdown",
      "id": "f6945c8f",
      "metadata": {
        "id": "f6945c8f"
      },
      "source": [
        "### 5. Проверка на однородность, применение критерия. Принятие решения. Расписать подробно с аргументами."
      ]
    },
    {
      "cell_type": "markdown",
      "source": [
        "После того, как мы получили 2 выборки (тест и контроль), необходимо проверить их гомогенность (однородность), чтобы мы могли предположить, что единственное чем отличаются выборки, это наличие влияния нашего теста."
      ],
      "metadata": {
        "id": "zqApAG3OYnDx"
      },
      "id": "zqApAG3OYnDx"
    },
    {
      "cell_type": "markdown",
      "source": [
        "#### Загрузка контрольной и тестовой выборок."
      ],
      "metadata": {
        "id": "uYqjL2GZ3khR"
      },
      "id": "uYqjL2GZ3khR"
    },
    {
      "cell_type": "markdown",
      "source": [
        "Подгрузим контрольную и тестовую выборки и оставим в них только столбец с интересующей нас метрикой и параметром, влияющим на эту метрику."
      ],
      "metadata": {
        "id": "tsYLSvPuf7t7"
      },
      "id": "tsYLSvPuf7t7"
    },
    {
      "cell_type": "code",
      "source": [
        "control_2 = pd.read_csv('gdrive/My Drive/Контроль (1).csv')\n",
        "control_2 = control_2[['Флаг утилизации счёта', 'Вероятность банкротства']]\n",
        "test_2 = pd.read_csv('gdrive/My Drive/Тест (1).csv')\n",
        "test_2 = test_2[['Флаг утилизации счёта', 'Вероятность банкротства']]"
      ],
      "metadata": {
        "id": "2oQaEjDHf-2S"
      },
      "id": "2oQaEjDHf-2S",
      "execution_count": null,
      "outputs": []
    },
    {
      "cell_type": "markdown",
      "source": [
        "Посмотрим, как все подгрузилось."
      ],
      "metadata": {
        "id": "iz7zmq2Ag2ts"
      },
      "id": "iz7zmq2Ag2ts"
    },
    {
      "cell_type": "code",
      "source": [
        "control_2.head()"
      ],
      "metadata": {
        "colab": {
          "base_uri": "https://localhost:8080/",
          "height": 206
        },
        "id": "Az8dNhjxg3OY",
        "outputId": "02309454-c1aa-4424-bd3a-50ab48d7f2b6"
      },
      "id": "Az8dNhjxg3OY",
      "execution_count": null,
      "outputs": [
        {
          "output_type": "execute_result",
          "data": {
            "text/plain": [
              "   Флаг утилизации счёта  Вероятность банкротства\n",
              "0                      0                 0.049579\n",
              "1                      1                 0.008291\n",
              "2                      1                 0.029141\n",
              "3                      1                 0.225022\n",
              "4                      1                 0.008637"
            ],
            "text/html": [
              "\n",
              "  <div id=\"df-c4915172-a5ae-4b65-807e-914f4144fbb7\">\n",
              "    <div class=\"colab-df-container\">\n",
              "      <div>\n",
              "<style scoped>\n",
              "    .dataframe tbody tr th:only-of-type {\n",
              "        vertical-align: middle;\n",
              "    }\n",
              "\n",
              "    .dataframe tbody tr th {\n",
              "        vertical-align: top;\n",
              "    }\n",
              "\n",
              "    .dataframe thead th {\n",
              "        text-align: right;\n",
              "    }\n",
              "</style>\n",
              "<table border=\"1\" class=\"dataframe\">\n",
              "  <thead>\n",
              "    <tr style=\"text-align: right;\">\n",
              "      <th></th>\n",
              "      <th>Флаг утилизации счёта</th>\n",
              "      <th>Вероятность банкротства</th>\n",
              "    </tr>\n",
              "  </thead>\n",
              "  <tbody>\n",
              "    <tr>\n",
              "      <th>0</th>\n",
              "      <td>0</td>\n",
              "      <td>0.049579</td>\n",
              "    </tr>\n",
              "    <tr>\n",
              "      <th>1</th>\n",
              "      <td>1</td>\n",
              "      <td>0.008291</td>\n",
              "    </tr>\n",
              "    <tr>\n",
              "      <th>2</th>\n",
              "      <td>1</td>\n",
              "      <td>0.029141</td>\n",
              "    </tr>\n",
              "    <tr>\n",
              "      <th>3</th>\n",
              "      <td>1</td>\n",
              "      <td>0.225022</td>\n",
              "    </tr>\n",
              "    <tr>\n",
              "      <th>4</th>\n",
              "      <td>1</td>\n",
              "      <td>0.008637</td>\n",
              "    </tr>\n",
              "  </tbody>\n",
              "</table>\n",
              "</div>\n",
              "      <button class=\"colab-df-convert\" onclick=\"convertToInteractive('df-c4915172-a5ae-4b65-807e-914f4144fbb7')\"\n",
              "              title=\"Convert this dataframe to an interactive table.\"\n",
              "              style=\"display:none;\">\n",
              "        \n",
              "  <svg xmlns=\"http://www.w3.org/2000/svg\" height=\"24px\"viewBox=\"0 0 24 24\"\n",
              "       width=\"24px\">\n",
              "    <path d=\"M0 0h24v24H0V0z\" fill=\"none\"/>\n",
              "    <path d=\"M18.56 5.44l.94 2.06.94-2.06 2.06-.94-2.06-.94-.94-2.06-.94 2.06-2.06.94zm-11 1L8.5 8.5l.94-2.06 2.06-.94-2.06-.94L8.5 2.5l-.94 2.06-2.06.94zm10 10l.94 2.06.94-2.06 2.06-.94-2.06-.94-.94-2.06-.94 2.06-2.06.94z\"/><path d=\"M17.41 7.96l-1.37-1.37c-.4-.4-.92-.59-1.43-.59-.52 0-1.04.2-1.43.59L10.3 9.45l-7.72 7.72c-.78.78-.78 2.05 0 2.83L4 21.41c.39.39.9.59 1.41.59.51 0 1.02-.2 1.41-.59l7.78-7.78 2.81-2.81c.8-.78.8-2.07 0-2.86zM5.41 20L4 18.59l7.72-7.72 1.47 1.35L5.41 20z\"/>\n",
              "  </svg>\n",
              "      </button>\n",
              "      \n",
              "  <style>\n",
              "    .colab-df-container {\n",
              "      display:flex;\n",
              "      flex-wrap:wrap;\n",
              "      gap: 12px;\n",
              "    }\n",
              "\n",
              "    .colab-df-convert {\n",
              "      background-color: #E8F0FE;\n",
              "      border: none;\n",
              "      border-radius: 50%;\n",
              "      cursor: pointer;\n",
              "      display: none;\n",
              "      fill: #1967D2;\n",
              "      height: 32px;\n",
              "      padding: 0 0 0 0;\n",
              "      width: 32px;\n",
              "    }\n",
              "\n",
              "    .colab-df-convert:hover {\n",
              "      background-color: #E2EBFA;\n",
              "      box-shadow: 0px 1px 2px rgba(60, 64, 67, 0.3), 0px 1px 3px 1px rgba(60, 64, 67, 0.15);\n",
              "      fill: #174EA6;\n",
              "    }\n",
              "\n",
              "    [theme=dark] .colab-df-convert {\n",
              "      background-color: #3B4455;\n",
              "      fill: #D2E3FC;\n",
              "    }\n",
              "\n",
              "    [theme=dark] .colab-df-convert:hover {\n",
              "      background-color: #434B5C;\n",
              "      box-shadow: 0px 1px 3px 1px rgba(0, 0, 0, 0.15);\n",
              "      filter: drop-shadow(0px 1px 2px rgba(0, 0, 0, 0.3));\n",
              "      fill: #FFFFFF;\n",
              "    }\n",
              "  </style>\n",
              "\n",
              "      <script>\n",
              "        const buttonEl =\n",
              "          document.querySelector('#df-c4915172-a5ae-4b65-807e-914f4144fbb7 button.colab-df-convert');\n",
              "        buttonEl.style.display =\n",
              "          google.colab.kernel.accessAllowed ? 'block' : 'none';\n",
              "\n",
              "        async function convertToInteractive(key) {\n",
              "          const element = document.querySelector('#df-c4915172-a5ae-4b65-807e-914f4144fbb7');\n",
              "          const dataTable =\n",
              "            await google.colab.kernel.invokeFunction('convertToInteractive',\n",
              "                                                     [key], {});\n",
              "          if (!dataTable) return;\n",
              "\n",
              "          const docLinkHtml = 'Like what you see? Visit the ' +\n",
              "            '<a target=\"_blank\" href=https://colab.research.google.com/notebooks/data_table.ipynb>data table notebook</a>'\n",
              "            + ' to learn more about interactive tables.';\n",
              "          element.innerHTML = '';\n",
              "          dataTable['output_type'] = 'display_data';\n",
              "          await google.colab.output.renderOutput(dataTable, element);\n",
              "          const docLink = document.createElement('div');\n",
              "          docLink.innerHTML = docLinkHtml;\n",
              "          element.appendChild(docLink);\n",
              "        }\n",
              "      </script>\n",
              "    </div>\n",
              "  </div>\n",
              "  "
            ]
          },
          "metadata": {},
          "execution_count": 85
        }
      ]
    },
    {
      "cell_type": "code",
      "source": [
        "test_2.head()"
      ],
      "metadata": {
        "colab": {
          "base_uri": "https://localhost:8080/",
          "height": 206
        },
        "id": "8NqGWg5Yg40G",
        "outputId": "67f5a22b-d6e7-4577-9813-cb119681c1c3"
      },
      "id": "8NqGWg5Yg40G",
      "execution_count": null,
      "outputs": [
        {
          "output_type": "execute_result",
          "data": {
            "text/plain": [
              "   Флаг утилизации счёта  Вероятность банкротства\n",
              "0                      0                 0.205598\n",
              "1                      0                 0.132103\n",
              "2                      1                 0.009616\n",
              "3                      1                 0.077674\n",
              "4                      1                 0.242047"
            ],
            "text/html": [
              "\n",
              "  <div id=\"df-5edd403c-f5e6-42d8-a55d-456e22d91d30\">\n",
              "    <div class=\"colab-df-container\">\n",
              "      <div>\n",
              "<style scoped>\n",
              "    .dataframe tbody tr th:only-of-type {\n",
              "        vertical-align: middle;\n",
              "    }\n",
              "\n",
              "    .dataframe tbody tr th {\n",
              "        vertical-align: top;\n",
              "    }\n",
              "\n",
              "    .dataframe thead th {\n",
              "        text-align: right;\n",
              "    }\n",
              "</style>\n",
              "<table border=\"1\" class=\"dataframe\">\n",
              "  <thead>\n",
              "    <tr style=\"text-align: right;\">\n",
              "      <th></th>\n",
              "      <th>Флаг утилизации счёта</th>\n",
              "      <th>Вероятность банкротства</th>\n",
              "    </tr>\n",
              "  </thead>\n",
              "  <tbody>\n",
              "    <tr>\n",
              "      <th>0</th>\n",
              "      <td>0</td>\n",
              "      <td>0.205598</td>\n",
              "    </tr>\n",
              "    <tr>\n",
              "      <th>1</th>\n",
              "      <td>0</td>\n",
              "      <td>0.132103</td>\n",
              "    </tr>\n",
              "    <tr>\n",
              "      <th>2</th>\n",
              "      <td>1</td>\n",
              "      <td>0.009616</td>\n",
              "    </tr>\n",
              "    <tr>\n",
              "      <th>3</th>\n",
              "      <td>1</td>\n",
              "      <td>0.077674</td>\n",
              "    </tr>\n",
              "    <tr>\n",
              "      <th>4</th>\n",
              "      <td>1</td>\n",
              "      <td>0.242047</td>\n",
              "    </tr>\n",
              "  </tbody>\n",
              "</table>\n",
              "</div>\n",
              "      <button class=\"colab-df-convert\" onclick=\"convertToInteractive('df-5edd403c-f5e6-42d8-a55d-456e22d91d30')\"\n",
              "              title=\"Convert this dataframe to an interactive table.\"\n",
              "              style=\"display:none;\">\n",
              "        \n",
              "  <svg xmlns=\"http://www.w3.org/2000/svg\" height=\"24px\"viewBox=\"0 0 24 24\"\n",
              "       width=\"24px\">\n",
              "    <path d=\"M0 0h24v24H0V0z\" fill=\"none\"/>\n",
              "    <path d=\"M18.56 5.44l.94 2.06.94-2.06 2.06-.94-2.06-.94-.94-2.06-.94 2.06-2.06.94zm-11 1L8.5 8.5l.94-2.06 2.06-.94-2.06-.94L8.5 2.5l-.94 2.06-2.06.94zm10 10l.94 2.06.94-2.06 2.06-.94-2.06-.94-.94-2.06-.94 2.06-2.06.94z\"/><path d=\"M17.41 7.96l-1.37-1.37c-.4-.4-.92-.59-1.43-.59-.52 0-1.04.2-1.43.59L10.3 9.45l-7.72 7.72c-.78.78-.78 2.05 0 2.83L4 21.41c.39.39.9.59 1.41.59.51 0 1.02-.2 1.41-.59l7.78-7.78 2.81-2.81c.8-.78.8-2.07 0-2.86zM5.41 20L4 18.59l7.72-7.72 1.47 1.35L5.41 20z\"/>\n",
              "  </svg>\n",
              "      </button>\n",
              "      \n",
              "  <style>\n",
              "    .colab-df-container {\n",
              "      display:flex;\n",
              "      flex-wrap:wrap;\n",
              "      gap: 12px;\n",
              "    }\n",
              "\n",
              "    .colab-df-convert {\n",
              "      background-color: #E8F0FE;\n",
              "      border: none;\n",
              "      border-radius: 50%;\n",
              "      cursor: pointer;\n",
              "      display: none;\n",
              "      fill: #1967D2;\n",
              "      height: 32px;\n",
              "      padding: 0 0 0 0;\n",
              "      width: 32px;\n",
              "    }\n",
              "\n",
              "    .colab-df-convert:hover {\n",
              "      background-color: #E2EBFA;\n",
              "      box-shadow: 0px 1px 2px rgba(60, 64, 67, 0.3), 0px 1px 3px 1px rgba(60, 64, 67, 0.15);\n",
              "      fill: #174EA6;\n",
              "    }\n",
              "\n",
              "    [theme=dark] .colab-df-convert {\n",
              "      background-color: #3B4455;\n",
              "      fill: #D2E3FC;\n",
              "    }\n",
              "\n",
              "    [theme=dark] .colab-df-convert:hover {\n",
              "      background-color: #434B5C;\n",
              "      box-shadow: 0px 1px 3px 1px rgba(0, 0, 0, 0.15);\n",
              "      filter: drop-shadow(0px 1px 2px rgba(0, 0, 0, 0.3));\n",
              "      fill: #FFFFFF;\n",
              "    }\n",
              "  </style>\n",
              "\n",
              "      <script>\n",
              "        const buttonEl =\n",
              "          document.querySelector('#df-5edd403c-f5e6-42d8-a55d-456e22d91d30 button.colab-df-convert');\n",
              "        buttonEl.style.display =\n",
              "          google.colab.kernel.accessAllowed ? 'block' : 'none';\n",
              "\n",
              "        async function convertToInteractive(key) {\n",
              "          const element = document.querySelector('#df-5edd403c-f5e6-42d8-a55d-456e22d91d30');\n",
              "          const dataTable =\n",
              "            await google.colab.kernel.invokeFunction('convertToInteractive',\n",
              "                                                     [key], {});\n",
              "          if (!dataTable) return;\n",
              "\n",
              "          const docLinkHtml = 'Like what you see? Visit the ' +\n",
              "            '<a target=\"_blank\" href=https://colab.research.google.com/notebooks/data_table.ipynb>data table notebook</a>'\n",
              "            + ' to learn more about interactive tables.';\n",
              "          element.innerHTML = '';\n",
              "          dataTable['output_type'] = 'display_data';\n",
              "          await google.colab.output.renderOutput(dataTable, element);\n",
              "          const docLink = document.createElement('div');\n",
              "          docLink.innerHTML = docLinkHtml;\n",
              "          element.appendChild(docLink);\n",
              "        }\n",
              "      </script>\n",
              "    </div>\n",
              "  </div>\n",
              "  "
            ]
          },
          "metadata": {},
          "execution_count": 86
        }
      ]
    },
    {
      "cell_type": "markdown",
      "source": [
        "#### Проверка Stability index выборок."
      ],
      "metadata": {
        "id": "xz-944PAhHUo"
      },
      "id": "xz-944PAhHUo"
    },
    {
      "cell_type": "code",
      "source": [
        "si_2 = calculate_psi(control_2['Вероятность банкротства'], test_2['Вероятность банкротства'])\n",
        "print(f'Stability Index = {round(si_2, 4)}')\n",
        "if si < 0.1:\n",
        "  print(f'В выборке отстуствуют значимые изменения.')\n",
        "elif 0.1 <= si < 0.2:\n",
        "  print(f'В выборке имеются незначительные изменения, которые необходимо исследовать.')\n",
        "else:\n",
        "  print(f'В выборке имеется существенное смещение, необходимы изменения, в идеале не использовать выборку.')"
      ],
      "metadata": {
        "colab": {
          "base_uri": "https://localhost:8080/"
        },
        "id": "_888iyyohP-W",
        "outputId": "99a8094b-2fbd-48de-dbc5-b1fd99a8c0fd"
      },
      "id": "_888iyyohP-W",
      "execution_count": null,
      "outputs": [
        {
          "output_type": "stream",
          "name": "stdout",
          "text": [
            "Stability Index = 0.004\n",
            "В выборке отстуствуют значимые изменения.\n"
          ]
        }
      ]
    },
    {
      "cell_type": "markdown",
      "source": [
        "#### Проверка однородности выборок."
      ],
      "metadata": {
        "id": "m6Iu0cpN3z2f"
      },
      "id": "m6Iu0cpN3z2f"
    },
    {
      "cell_type": "markdown",
      "source": [
        "Наши исходные данные: 1 признак, влияющий на целевую метрику, следовательно, для проверки однородности двух выборок будем использовать **метод Андерсона-Дарлинга**.\\\n",
        "Проверка однородности выбранного параметра осуществяется с **уровнем значимости 2%**."
      ],
      "metadata": {
        "id": "r8-hK1w4NTMu"
      },
      "id": "r8-hK1w4NTMu"
    },
    {
      "cell_type": "code",
      "source": [
        "res = anderson_ksamp([control_2['Вероятность банкротства'], test_2['Вероятность банкротства']])\n",
        "\n",
        "if res.pvalue < 0.02:\n",
        "    print(f\"Отвергаем нулевую гипотезу на уровне значимости 2%: Выборки неоднородны (p-value={res.pvalue})\")\n",
        "else:\n",
        "    print(f\"Не отвергаем нулевую гипотезу на уровне значимости 2%: Выборки однородны (p-value={res.pvalue})\")"
      ],
      "metadata": {
        "colab": {
          "base_uri": "https://localhost:8080/"
        },
        "id": "mJxDzxTNjFN9",
        "outputId": "8a937efa-b8c7-4e84-b605-1184b865b692"
      },
      "id": "mJxDzxTNjFN9",
      "execution_count": null,
      "outputs": [
        {
          "output_type": "stream",
          "name": "stdout",
          "text": [
            "Не отвергаем нулевую гипотезу на уровне значимости 2%: Выборки однородны (p-value=0.16052781183278797)\n"
          ]
        }
      ]
    },
    {
      "cell_type": "markdown",
      "source": [
        "Для самопроверки применим критерий **Лемана-Розенблатта**."
      ],
      "metadata": {
        "id": "lAyFNpVegCcH"
      },
      "id": "lAyFNpVegCcH"
    },
    {
      "cell_type": "code",
      "source": [
        "res_2 = cramervonmises_2samp(control_2['Вероятность банкротства'], test_2['Вероятность банкротства'])\n",
        "\n",
        "if res_2.pvalue < 0.02:\n",
        "    print(f\"Отвергаем нулевую гипотезу на уровне значимости 2%: Выборки неоднородны (p-value={res_2.pvalue})\")\n",
        "else:\n",
        "    print(f\"Не отвергаем нулевую гипотезу на уровне значимости 2%: Выборки однородны (p-value={res_2.pvalue})\")"
      ],
      "metadata": {
        "colab": {
          "base_uri": "https://localhost:8080/"
        },
        "id": "9npVp0yzfocl",
        "outputId": "c999bae6-289b-4eb3-89ca-77b62ea3d66e"
      },
      "id": "9npVp0yzfocl",
      "execution_count": null,
      "outputs": [
        {
          "output_type": "stream",
          "name": "stdout",
          "text": [
            "Не отвергаем нулевую гипотезу на уровне значимости 2%: Выборки однородны (p-value=0.21786250801885754)\n"
          ]
        }
      ]
    },
    {
      "cell_type": "markdown",
      "source": [
        "#### Выбор и применение статистического критерия."
      ],
      "metadata": {
        "id": "FuEGob523-hP"
      },
      "id": "FuEGob523-hP"
    },
    {
      "cell_type": "markdown",
      "source": [
        "Поскольку выборки однородны, мы можем применить критерий для целевой метрики.\n",
        "В качестве статистического критерия будем использовать один из самых популярных критериев для бинарных выборок - **Z-критерий Фишера**."
      ],
      "metadata": {
        "id": "4igjKng-QtET"
      },
      "id": "4igjKng-QtET"
    },
    {
      "cell_type": "code",
      "source": [
        "alpha_2 = 0.05 # уровень значимости 5%\n",
        "\n",
        "sample_success_a = control_2['Флаг утилизации счёта'].sum() # количество удачных исходов в контролькой выборке (утилизация счёта)\n",
        "sample_size_a = control_2['Флаг утилизации счёта'].count() # общий размер испытаний в контрольой выборке\n",
        "\n",
        "sample_success_b = test_2['Флаг утилизации счёта'].sum() # количество удачных исходов в тестовой выборке (утилизация счёта)\n",
        "sample_size_b = test_2['Флаг утилизации счёта'].count() # общий размер испытаний в тестовой выборке\n",
        "\n",
        "successes = np.array([sample_success_a, sample_success_b]) # массив успехов\n",
        "samples = np.array([sample_size_a, sample_size_b]) # массив испытаний\n",
        "\n",
        "stat, p_value = proportions_ztest(count=successes, nobs=samples, alternative='smaller') # In the two sample test, smaller means that the alternative hypothesis is p1 < p2\n",
        "\n",
        "print(f'z_статистика: {round(stat, 4)}, p_value: {round(p_value, 4)}')\n",
        "print('=================================')\n",
        "if p_value < alpha_2:\n",
        "    print(\"Отвергаем нулевую гипотезу в пользу альтернативной гипотезы, имеются статзначимые ризличия в группах.\")\n",
        "else:\n",
        "    print(\"Нулевая гипотеза не отвергается и статзначимых различий в группах нет.\")"
      ],
      "metadata": {
        "id": "3Bf8n_g7Uw84",
        "colab": {
          "base_uri": "https://localhost:8080/"
        },
        "outputId": "01ae010d-8a62-45ab-bace-fdaa40c81dac"
      },
      "id": "3Bf8n_g7Uw84",
      "execution_count": null,
      "outputs": [
        {
          "output_type": "stream",
          "name": "stdout",
          "text": [
            "z_статистика: -2.9, p_value: 0.0019\n",
            "=================================\n",
            "Отвергаем нулевую гипотезу в пользу альтернативной гипотезы, имеются статзначимые ризличия в группах.\n"
          ]
        }
      ]
    },
    {
      "cell_type": "markdown",
      "source": [
        "#### Выводы:"
      ],
      "metadata": {
        "id": "vFAKFH-z4aj_"
      },
      "id": "vFAKFH-z4aj_"
    },
    {
      "cell_type": "markdown",
      "source": [
        "* Мы видим, что p_value = 0.0019 < alpha = 0.05, следовательно нулевая \n",
        "гипотеза H0 о том, что изменение процесса авторизации не окажет статистически значимого эффекта на позвышение частоты утилизации счетов по сравнению с контрольной группой, **отвергается** в пользу альтернативной гипотезы о наличии в тестовой выборке статзначимых изменений (**увеличения** конверсии утилизаций счёта на (как минимум) минимально-ожидаемый эффект) для уровня значимости alpha = 5% и мощности (1-beta) = 95%.\n",
        "* Таким образом, опираясь на результаты теста мы принимаем решение (или даем рекомендацию) внедрить новый процесс авторизации (масштабировать на всех пользователей), в виду того, что это окажет статзначимый эффект на увеличение количества утилизаций счёта.\n"
      ],
      "metadata": {
        "id": "NMQbpl0Yx05n"
      },
      "id": "NMQbpl0Yx05n"
    }
  ],
  "metadata": {
    "kernelspec": {
      "display_name": "Python 3 (ipykernel)",
      "language": "python",
      "name": "python3"
    },
    "language_info": {
      "codemirror_mode": {
        "name": "ipython",
        "version": 3
      },
      "file_extension": ".py",
      "mimetype": "text/x-python",
      "name": "python",
      "nbconvert_exporter": "python",
      "pygments_lexer": "ipython3",
      "version": "3.9.7"
    },
    "colab": {
      "provenance": []
    }
  },
  "nbformat": 4,
  "nbformat_minor": 5
}
