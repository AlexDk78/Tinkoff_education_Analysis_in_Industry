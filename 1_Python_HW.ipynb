{
  "nbformat": 4,
  "nbformat_minor": 0,
  "metadata": {
    "colab": {
      "provenance": [],
      "toc_visible": true
    },
    "kernelspec": {
      "name": "python3",
      "display_name": "Python 3"
    },
    "language_info": {
      "name": "python"
    }
  },
  "cells": [
    {
      "cell_type": "markdown",
      "source": [
        "# Импортитуем библиотеки"
      ],
      "metadata": {
        "id": "vu00oeZvdEjN"
      }
    },
    {
      "cell_type": "code",
      "execution_count": null,
      "metadata": {
        "id": "b5b-TCEVZ4Mw"
      },
      "outputs": [],
      "source": [
        "import pandas as pd\n",
        "import random as rnd\n",
        "import numpy as np"
      ]
    },
    {
      "cell_type": "markdown",
      "source": [
        "#Для генерации данных в random необходимо установить seed = \"АДВИ_2023\", всего длинна каждого списка N = 1000"
      ],
      "metadata": {
        "id": "XvzL0hQqdLD3"
      }
    },
    {
      "cell_type": "code",
      "source": [
        "rnd.seed('АДВИ_2023') # Фиксируем рандомизацю"
      ],
      "metadata": {
        "id": "55AXjmoAaE4m"
      },
      "execution_count": null,
      "outputs": []
    },
    {
      "cell_type": "markdown",
      "source": [
        "#index колонка: создать список из N последовательных целых элементов от 1 до 1000 включительно, далее, с помощью random, перемешать его -> будем использовать как"
      ],
      "metadata": {
        "id": "0s-RfPl_dUnO"
      }
    },
    {
      "cell_type": "code",
      "source": [
        "index = [i for i in range(1, 1001)] # Создаем списк index \n",
        "rnd.shuffle(index) # Перемешиваем список index"
      ],
      "metadata": {
        "id": "5U9nE6PdaRpz"
      },
      "execution_count": null,
      "outputs": []
    },
    {
      "cell_type": "code",
      "source": [
        "print(index[:5]) # Проверяем первые 5 значений (по итогам просмотра чата должно получиться [476,315,490,748,471])\n",
        "print(len(index)) # Проверяем длину списка index. Должно быть 1000 элементов."
      ],
      "metadata": {
        "colab": {
          "base_uri": "https://localhost:8080/"
        },
        "id": "zpc365fOcd8a",
        "outputId": "582223c7-1dc1-4d47-837a-3e73d143ecb8"
      },
      "execution_count": null,
      "outputs": [
        {
          "output_type": "stream",
          "name": "stdout",
          "text": [
            "[476, 315, 490, 748, 471]\n",
            "1000\n"
          ]
        }
      ]
    },
    {
      "cell_type": "markdown",
      "source": [
        "#groups колонка: создать список из N элементов, состоящий из значений из списка [\"группа_1\", \"группа_2\", \"группа_3\", \"группа_4\", \"группа_5\"] (равномерное распределение);"
      ],
      "metadata": {
        "id": "GD8qJK0feJwB"
      }
    },
    {
      "cell_type": "code",
      "source": [
        "population = ['группа_1', 'группа_2', 'группа_3', 'группа_4', 'группа_5'] # Создаем исходный список групп\n",
        "groups = rnd.choices(population=population, k=1000) # Генерируем список с помощью метода выбора k-массива из исходного списка\n",
        "groups[:5] # Проверяем, должно получиться [1, 5, 4, 3, 5]"
      ],
      "metadata": {
        "colab": {
          "base_uri": "https://localhost:8080/"
        },
        "id": "h8mUhwTCJ-J3",
        "outputId": "2021e054-9390-4e85-f1fe-40ab4ae79adf"
      },
      "execution_count": null,
      "outputs": [
        {
          "output_type": "execute_result",
          "data": {
            "text/plain": [
              "['группа_1', 'группа_5', 'группа_4', 'группа_3', 'группа_5']"
            ]
          },
          "metadata": {},
          "execution_count": 1912
        }
      ]
    },
    {
      "cell_type": "markdown",
      "source": [
        "# uniform колонка: создать список из N элементов, состоящий из целых значений из равномерного распределения [50, 100]"
      ],
      "metadata": {
        "id": "cpzYP8dmluzQ"
      }
    },
    {
      "cell_type": "code",
      "source": [
        "uniform = [rnd.randint(50, 100) for i in range(1, 1001)] # Генерим список из 1000 рандомных ЦЕЛЫХ чисел в диапазоне 50<=N<=100\n",
        "uniform[:5] # Проверим первые 5 чисел. Должно получиться [95, 77, 96, 56, 52]"
      ],
      "metadata": {
        "colab": {
          "base_uri": "https://localhost:8080/"
        },
        "id": "EXuypyeUBXX3",
        "outputId": "4898f250-7ab1-4acf-8b6b-f6395eb70195"
      },
      "execution_count": null,
      "outputs": [
        {
          "output_type": "execute_result",
          "data": {
            "text/plain": [
              "[95, 77, 96, 56, 52]"
            ]
          },
          "metadata": {},
          "execution_count": 1913
        }
      ]
    },
    {
      "cell_type": "markdown",
      "source": [
        "# gauss_1, gauss_2, gauss_3 колонки: Создать 3 списка из N элементов каждый, заполненные значениями из нормальных распределений с параметрами: mu = 0, sigma^2 = 1; mu = 0, sigma^2 = 144, mu = 50, sigma^2 = 81"
      ],
      "metadata": {
        "id": "GYH2nLpzqkH6"
      }
    },
    {
      "cell_type": "code",
      "source": [
        "def gauss_list(mu, sigma): # Создадим функцию по генерированию рандомного списка (чтобы не хардкодить)\n",
        "  return [rnd.gauss(mu, sigma) for i in range(1, 1001)]"
      ],
      "metadata": {
        "id": "zWRKGaL7Ormp"
      },
      "execution_count": null,
      "outputs": []
    },
    {
      "cell_type": "code",
      "source": [
        "gauss_1 = gauss_list(0, 1) # Сгенерим рандомный список из 1000 элементов из Гауссовского распределения с параметрами mu = 0, sigma = 1 (в модуле random.gauss sigma без квадрата)\n",
        "gauss_1[:5] # Проверим первые 5 индексов, должно получиться [3.01029133931237, 0.19027733260392263, -0.2821614316869885, 1.127080293462533, -1.238270197990803]"
      ],
      "metadata": {
        "colab": {
          "base_uri": "https://localhost:8080/"
        },
        "id": "qSUSszuB6_18",
        "outputId": "128eab0b-0bfe-46d0-c016-6dd0a3d43456"
      },
      "execution_count": null,
      "outputs": [
        {
          "output_type": "execute_result",
          "data": {
            "text/plain": [
              "[3.01029133931237,\n",
              " 0.19027733260392263,\n",
              " -0.2821614316869885,\n",
              " 1.127080293462533,\n",
              " -1.238270197990803]"
            ]
          },
          "metadata": {},
          "execution_count": 1915
        }
      ]
    },
    {
      "cell_type": "code",
      "source": [
        "gauss_2 = gauss_list(0, 12)\n",
        "gauss_2[:5]"
      ],
      "metadata": {
        "colab": {
          "base_uri": "https://localhost:8080/"
        },
        "id": "wCTtGErVOkLq",
        "outputId": "2b06984c-a3c3-4974-b8f0-f1f4a6e016f2"
      },
      "execution_count": null,
      "outputs": [
        {
          "output_type": "execute_result",
          "data": {
            "text/plain": [
              "[2.156346051014784,\n",
              " -9.9345500018044,\n",
              " 9.21107054467491,\n",
              " -12.391792676825144,\n",
              " 10.938748375443827]"
            ]
          },
          "metadata": {},
          "execution_count": 1916
        }
      ]
    },
    {
      "cell_type": "code",
      "source": [
        "gauss_3 = gauss_list(50, 9)\n",
        "gauss_3[:5]"
      ],
      "metadata": {
        "colab": {
          "base_uri": "https://localhost:8080/"
        },
        "id": "79gPb0d_PCtc",
        "outputId": "da348eb5-f054-444f-f07d-7bd43d2e53cc"
      },
      "execution_count": null,
      "outputs": [
        {
          "output_type": "execute_result",
          "data": {
            "text/plain": [
              "[57.45585127992099,\n",
              " 62.69417653984917,\n",
              " 54.68889491891202,\n",
              " 30.1923532867853,\n",
              " 52.68205247669375]"
            ]
          },
          "metadata": {},
          "execution_count": 1917
        }
      ]
    },
    {
      "cell_type": "markdown",
      "source": [
        "# Создать pandas DataFrame, где (1) будет индексом, (2)-(4) колонки, названия колонок [\"groups\", \"uniform\", \"gauss_1\", \"gauss_2\", \"gauss_3\"] соответственно, не забывая проверить, что типы колонок должны соответствовать заявленным типам данных"
      ],
      "metadata": {
        "id": "dJDEuBioQDd1"
      }
    },
    {
      "cell_type": "code",
      "source": [
        "df = pd.DataFrame(index = index, data={'groups':groups, 'uniform':uniform, 'gauss_1':gauss_1, 'gauss_2':gauss_2, 'gauss_3':gauss_3}) # Создадим датафрейм с ранее сгенерированными колонками. Индексами будет выступать колонка index\n",
        "df.head(10) # Выведем первые 10 строк"
      ],
      "metadata": {
        "colab": {
          "base_uri": "https://localhost:8080/",
          "height": 363
        },
        "id": "3xy5lsYXQF1R",
        "outputId": "3474f3e7-e081-4bc8-ec3d-d51257869d07"
      },
      "execution_count": null,
      "outputs": [
        {
          "output_type": "execute_result",
          "data": {
            "text/plain": [
              "       groups  uniform   gauss_1    gauss_2    gauss_3\n",
              "476  группа_1       95  3.010291   2.156346  57.455851\n",
              "315  группа_5       77  0.190277  -9.934550  62.694177\n",
              "490  группа_4       96 -0.282161   9.211071  54.688895\n",
              "748  группа_3       56  1.127080 -12.391793  30.192353\n",
              "471  группа_5       52 -1.238270  10.938748  52.682052\n",
              "907  группа_2       70 -1.227963  12.721383  55.538879\n",
              "457  группа_2       70 -0.553928  -1.674862  48.011108\n",
              "826  группа_1       73  0.581783  -2.170896  49.992722\n",
              "5    группа_3       64  1.612765  -1.242515  41.876322\n",
              "646  группа_3       86 -0.485014  10.381790  55.025045"
            ],
            "text/html": [
              "\n",
              "  <div id=\"df-a7528826-5150-41f1-80fd-080bd53177de\">\n",
              "    <div class=\"colab-df-container\">\n",
              "      <div>\n",
              "<style scoped>\n",
              "    .dataframe tbody tr th:only-of-type {\n",
              "        vertical-align: middle;\n",
              "    }\n",
              "\n",
              "    .dataframe tbody tr th {\n",
              "        vertical-align: top;\n",
              "    }\n",
              "\n",
              "    .dataframe thead th {\n",
              "        text-align: right;\n",
              "    }\n",
              "</style>\n",
              "<table border=\"1\" class=\"dataframe\">\n",
              "  <thead>\n",
              "    <tr style=\"text-align: right;\">\n",
              "      <th></th>\n",
              "      <th>groups</th>\n",
              "      <th>uniform</th>\n",
              "      <th>gauss_1</th>\n",
              "      <th>gauss_2</th>\n",
              "      <th>gauss_3</th>\n",
              "    </tr>\n",
              "  </thead>\n",
              "  <tbody>\n",
              "    <tr>\n",
              "      <th>476</th>\n",
              "      <td>группа_1</td>\n",
              "      <td>95</td>\n",
              "      <td>3.010291</td>\n",
              "      <td>2.156346</td>\n",
              "      <td>57.455851</td>\n",
              "    </tr>\n",
              "    <tr>\n",
              "      <th>315</th>\n",
              "      <td>группа_5</td>\n",
              "      <td>77</td>\n",
              "      <td>0.190277</td>\n",
              "      <td>-9.934550</td>\n",
              "      <td>62.694177</td>\n",
              "    </tr>\n",
              "    <tr>\n",
              "      <th>490</th>\n",
              "      <td>группа_4</td>\n",
              "      <td>96</td>\n",
              "      <td>-0.282161</td>\n",
              "      <td>9.211071</td>\n",
              "      <td>54.688895</td>\n",
              "    </tr>\n",
              "    <tr>\n",
              "      <th>748</th>\n",
              "      <td>группа_3</td>\n",
              "      <td>56</td>\n",
              "      <td>1.127080</td>\n",
              "      <td>-12.391793</td>\n",
              "      <td>30.192353</td>\n",
              "    </tr>\n",
              "    <tr>\n",
              "      <th>471</th>\n",
              "      <td>группа_5</td>\n",
              "      <td>52</td>\n",
              "      <td>-1.238270</td>\n",
              "      <td>10.938748</td>\n",
              "      <td>52.682052</td>\n",
              "    </tr>\n",
              "    <tr>\n",
              "      <th>907</th>\n",
              "      <td>группа_2</td>\n",
              "      <td>70</td>\n",
              "      <td>-1.227963</td>\n",
              "      <td>12.721383</td>\n",
              "      <td>55.538879</td>\n",
              "    </tr>\n",
              "    <tr>\n",
              "      <th>457</th>\n",
              "      <td>группа_2</td>\n",
              "      <td>70</td>\n",
              "      <td>-0.553928</td>\n",
              "      <td>-1.674862</td>\n",
              "      <td>48.011108</td>\n",
              "    </tr>\n",
              "    <tr>\n",
              "      <th>826</th>\n",
              "      <td>группа_1</td>\n",
              "      <td>73</td>\n",
              "      <td>0.581783</td>\n",
              "      <td>-2.170896</td>\n",
              "      <td>49.992722</td>\n",
              "    </tr>\n",
              "    <tr>\n",
              "      <th>5</th>\n",
              "      <td>группа_3</td>\n",
              "      <td>64</td>\n",
              "      <td>1.612765</td>\n",
              "      <td>-1.242515</td>\n",
              "      <td>41.876322</td>\n",
              "    </tr>\n",
              "    <tr>\n",
              "      <th>646</th>\n",
              "      <td>группа_3</td>\n",
              "      <td>86</td>\n",
              "      <td>-0.485014</td>\n",
              "      <td>10.381790</td>\n",
              "      <td>55.025045</td>\n",
              "    </tr>\n",
              "  </tbody>\n",
              "</table>\n",
              "</div>\n",
              "      <button class=\"colab-df-convert\" onclick=\"convertToInteractive('df-a7528826-5150-41f1-80fd-080bd53177de')\"\n",
              "              title=\"Convert this dataframe to an interactive table.\"\n",
              "              style=\"display:none;\">\n",
              "        \n",
              "  <svg xmlns=\"http://www.w3.org/2000/svg\" height=\"24px\"viewBox=\"0 0 24 24\"\n",
              "       width=\"24px\">\n",
              "    <path d=\"M0 0h24v24H0V0z\" fill=\"none\"/>\n",
              "    <path d=\"M18.56 5.44l.94 2.06.94-2.06 2.06-.94-2.06-.94-.94-2.06-.94 2.06-2.06.94zm-11 1L8.5 8.5l.94-2.06 2.06-.94-2.06-.94L8.5 2.5l-.94 2.06-2.06.94zm10 10l.94 2.06.94-2.06 2.06-.94-2.06-.94-.94-2.06-.94 2.06-2.06.94z\"/><path d=\"M17.41 7.96l-1.37-1.37c-.4-.4-.92-.59-1.43-.59-.52 0-1.04.2-1.43.59L10.3 9.45l-7.72 7.72c-.78.78-.78 2.05 0 2.83L4 21.41c.39.39.9.59 1.41.59.51 0 1.02-.2 1.41-.59l7.78-7.78 2.81-2.81c.8-.78.8-2.07 0-2.86zM5.41 20L4 18.59l7.72-7.72 1.47 1.35L5.41 20z\"/>\n",
              "  </svg>\n",
              "      </button>\n",
              "      \n",
              "  <style>\n",
              "    .colab-df-container {\n",
              "      display:flex;\n",
              "      flex-wrap:wrap;\n",
              "      gap: 12px;\n",
              "    }\n",
              "\n",
              "    .colab-df-convert {\n",
              "      background-color: #E8F0FE;\n",
              "      border: none;\n",
              "      border-radius: 50%;\n",
              "      cursor: pointer;\n",
              "      display: none;\n",
              "      fill: #1967D2;\n",
              "      height: 32px;\n",
              "      padding: 0 0 0 0;\n",
              "      width: 32px;\n",
              "    }\n",
              "\n",
              "    .colab-df-convert:hover {\n",
              "      background-color: #E2EBFA;\n",
              "      box-shadow: 0px 1px 2px rgba(60, 64, 67, 0.3), 0px 1px 3px 1px rgba(60, 64, 67, 0.15);\n",
              "      fill: #174EA6;\n",
              "    }\n",
              "\n",
              "    [theme=dark] .colab-df-convert {\n",
              "      background-color: #3B4455;\n",
              "      fill: #D2E3FC;\n",
              "    }\n",
              "\n",
              "    [theme=dark] .colab-df-convert:hover {\n",
              "      background-color: #434B5C;\n",
              "      box-shadow: 0px 1px 3px 1px rgba(0, 0, 0, 0.15);\n",
              "      filter: drop-shadow(0px 1px 2px rgba(0, 0, 0, 0.3));\n",
              "      fill: #FFFFFF;\n",
              "    }\n",
              "  </style>\n",
              "\n",
              "      <script>\n",
              "        const buttonEl =\n",
              "          document.querySelector('#df-a7528826-5150-41f1-80fd-080bd53177de button.colab-df-convert');\n",
              "        buttonEl.style.display =\n",
              "          google.colab.kernel.accessAllowed ? 'block' : 'none';\n",
              "\n",
              "        async function convertToInteractive(key) {\n",
              "          const element = document.querySelector('#df-a7528826-5150-41f1-80fd-080bd53177de');\n",
              "          const dataTable =\n",
              "            await google.colab.kernel.invokeFunction('convertToInteractive',\n",
              "                                                     [key], {});\n",
              "          if (!dataTable) return;\n",
              "\n",
              "          const docLinkHtml = 'Like what you see? Visit the ' +\n",
              "            '<a target=\"_blank\" href=https://colab.research.google.com/notebooks/data_table.ipynb>data table notebook</a>'\n",
              "            + ' to learn more about interactive tables.';\n",
              "          element.innerHTML = '';\n",
              "          dataTable['output_type'] = 'display_data';\n",
              "          await google.colab.output.renderOutput(dataTable, element);\n",
              "          const docLink = document.createElement('div');\n",
              "          docLink.innerHTML = docLinkHtml;\n",
              "          element.appendChild(docLink);\n",
              "        }\n",
              "      </script>\n",
              "    </div>\n",
              "  </div>\n",
              "  "
            ]
          },
          "metadata": {},
          "execution_count": 1918
        }
      ]
    },
    {
      "cell_type": "code",
      "source": [
        "df.dtypes # Проверим типы данных"
      ],
      "metadata": {
        "colab": {
          "base_uri": "https://localhost:8080/"
        },
        "id": "y3QE3YgVWuGj",
        "outputId": "b297133b-2846-4cbb-acf9-aa5b62910190"
      },
      "execution_count": null,
      "outputs": [
        {
          "output_type": "execute_result",
          "data": {
            "text/plain": [
              "groups      object\n",
              "uniform      int64\n",
              "gauss_1    float64\n",
              "gauss_2    float64\n",
              "gauss_3    float64\n",
              "dtype: object"
            ]
          },
          "metadata": {},
          "execution_count": 1919
        }
      ]
    },
    {
      "cell_type": "markdown",
      "source": [
        "#Для колонок gauss_1 и gauss_2 заменить значения на None: Для gauss_1, если индекс у значение делится на 121 без остатка; Для gauss_2, если дробная часть больше 0.95"
      ],
      "metadata": {
        "id": "OgPof_dwSgw2"
      }
    },
    {
      "cell_type": "code",
      "source": [
        "df.loc[df.index % 121 == 0, 'gauss_1'] = None # Заменим значения в gauss_1 по условию\n",
        "df['gauss_1'].value_counts() # Проверим, появились ли значения None и сколько их"
      ],
      "metadata": {
        "colab": {
          "base_uri": "https://localhost:8080/"
        },
        "id": "zrmp_IvZSlr0",
        "outputId": "a5e14542-d7cb-49fc-bf15-5f4a78ed72d7"
      },
      "execution_count": null,
      "outputs": [
        {
          "output_type": "execute_result",
          "data": {
            "text/plain": [
              " 3.010291    1\n",
              " 2.033302    1\n",
              " 0.559920    1\n",
              "-0.691854    1\n",
              " 1.180933    1\n",
              "            ..\n",
              "-0.394211    1\n",
              "-1.855531    1\n",
              " 0.445405    1\n",
              " 1.253340    1\n",
              " 0.093496    1\n",
              "Name: gauss_1, Length: 992, dtype: int64"
            ]
          },
          "metadata": {},
          "execution_count": 1920
        }
      ]
    },
    {
      "cell_type": "code",
      "source": [
        "df.loc[(df['gauss_2'] > 0) & (df['gauss_2'] % 1 > 0.95), 'gauss_2'] = None # Заменим значения в gauss_2 по условию\n",
        "df['gauss_2'].value_counts() # Проверим значения в столбце. Если их меньше 1000, значит какие-то значения None"
      ],
      "metadata": {
        "colab": {
          "base_uri": "https://localhost:8080/"
        },
        "id": "fHRTNqjiXde9",
        "outputId": "02bb3d63-a510-46c2-f798-f5fa490a71b6"
      },
      "execution_count": null,
      "outputs": [
        {
          "output_type": "execute_result",
          "data": {
            "text/plain": [
              " 2.156346     1\n",
              " 10.827245    1\n",
              " 8.007369     1\n",
              "-3.303095     1\n",
              " 2.818864     1\n",
              "             ..\n",
              "-6.189221     1\n",
              "-29.290553    1\n",
              "-21.874444    1\n",
              " 8.921171     1\n",
              "-9.164475     1\n",
              "Name: gauss_2, Length: 972, dtype: int64"
            ]
          },
          "metadata": {},
          "execution_count": 1921
        }
      ]
    },
    {
      "cell_type": "markdown",
      "source": [
        "# Теперь, для пропущенных значений gauss_1 и gauss_2: Для gauss_2 None заменить на среднее по колонке; Удалить строчки из таблицы, где gauss_1 == None."
      ],
      "metadata": {
        "id": "P7sZtrk_ZaIT"
      }
    },
    {
      "cell_type": "code",
      "source": [
        "df['gauss_2'].fillna(df['gauss_2'].mean(), inplace=True) # Заменим None значения средним по столбцу\n",
        "df['gauss_2'].value_counts() # Проверим значения"
      ],
      "metadata": {
        "colab": {
          "base_uri": "https://localhost:8080/"
        },
        "id": "qPLKNBVBcWwK",
        "outputId": "42af96cb-0dc4-4d79-9abd-0fe775656df0"
      },
      "execution_count": null,
      "outputs": [
        {
          "output_type": "execute_result",
          "data": {
            "text/plain": [
              "-0.434114     28\n",
              " 2.156346      1\n",
              " 0.615091      1\n",
              "-3.303095      1\n",
              " 2.818864      1\n",
              "              ..\n",
              "-6.189221      1\n",
              "-29.290553     1\n",
              "-21.874444     1\n",
              " 8.921171      1\n",
              "-9.164475      1\n",
              "Name: gauss_2, Length: 973, dtype: int64"
            ]
          },
          "metadata": {},
          "execution_count": 1922
        }
      ]
    },
    {
      "cell_type": "code",
      "source": [
        "df.dropna(subset = ['gauss_1'], inplace=True) # Удалим строки из таблицы по условию, что значение в столбце gauss_1 = None\n",
        "df.info() # Проверим мощность датасета"
      ],
      "metadata": {
        "colab": {
          "base_uri": "https://localhost:8080/"
        },
        "id": "LBygETj5fhz9",
        "outputId": "0cc583bc-e09b-4ad6-a7e1-f009e9f9f249"
      },
      "execution_count": null,
      "outputs": [
        {
          "output_type": "stream",
          "name": "stdout",
          "text": [
            "<class 'pandas.core.frame.DataFrame'>\n",
            "Int64Index: 992 entries, 476 to 587\n",
            "Data columns (total 5 columns):\n",
            " #   Column   Non-Null Count  Dtype  \n",
            "---  ------   --------------  -----  \n",
            " 0   groups   992 non-null    object \n",
            " 1   uniform  992 non-null    int64  \n",
            " 2   gauss_1  992 non-null    float64\n",
            " 3   gauss_2  992 non-null    float64\n",
            " 4   gauss_3  992 non-null    float64\n",
            "dtypes: float64(3), int64(1), object(1)\n",
            "memory usage: 46.5+ KB\n"
          ]
        }
      ]
    },
    {
      "cell_type": "markdown",
      "source": [
        "# Вопросы из теста"
      ],
      "metadata": {
        "id": "8REzb2jJnCgK"
      }
    },
    {
      "cell_type": "markdown",
      "source": [
        "Сколько всего получилось записей в таблице после выполнения всех пунктов из условия?"
      ],
      "metadata": {
        "id": "WWtV7ud5nfXJ"
      }
    },
    {
      "cell_type": "code",
      "source": [
        "df.shape # строки х столбцы"
      ],
      "metadata": {
        "colab": {
          "base_uri": "https://localhost:8080/"
        },
        "id": "1Q0OQ0i0nGnz",
        "outputId": "e0e231e1-5175-4025-882b-cf110161f6eb"
      },
      "execution_count": null,
      "outputs": [
        {
          "output_type": "execute_result",
          "data": {
            "text/plain": [
              "(992, 5)"
            ]
          },
          "metadata": {},
          "execution_count": 1924
        }
      ]
    },
    {
      "cell_type": "markdown",
      "source": [
        "Для колонки gauss_2 посчитать среднее и среднеквадратическое отклонение.\n",
        "\n",
        "Результаты необходимо написать в одну ячейку, разделенные пробелом, сначала среднее потом среднеквадратическое отклонение. Результаты округлить до сотых. Для дробной части использовать точку, как разделитель.\n"
      ],
      "metadata": {
        "id": "5mKXnM45nVdc"
      }
    },
    {
      "cell_type": "code",
      "source": [
        "df['gauss_2'].mean().round(2) # Среднее"
      ],
      "metadata": {
        "colab": {
          "base_uri": "https://localhost:8080/"
        },
        "id": "-capLTHenwaP",
        "outputId": "b5b18648-4a4d-4b7b-857a-cfb3190a9da0"
      },
      "execution_count": null,
      "outputs": [
        {
          "output_type": "execute_result",
          "data": {
            "text/plain": [
              "-0.47"
            ]
          },
          "metadata": {},
          "execution_count": 1925
        }
      ]
    },
    {
      "cell_type": "code",
      "source": [
        "df['gauss_2'].std().round(2) # Среднеквадратическое отклонение"
      ],
      "metadata": {
        "colab": {
          "base_uri": "https://localhost:8080/"
        },
        "id": "XFZShi7OnaL0",
        "outputId": "0fe3a4c4-6c2c-4a1c-8b47-4b3da6df149d"
      },
      "execution_count": null,
      "outputs": [
        {
          "output_type": "execute_result",
          "data": {
            "text/plain": [
              "12.07"
            ]
          },
          "metadata": {},
          "execution_count": 1926
        }
      ]
    },
    {
      "cell_type": "markdown",
      "source": [
        "Какая группа встречается чаще всего и сколько раз?\n",
        "\n",
        "Сначала вывести название группы, через пробел указать целое число."
      ],
      "metadata": {
        "id": "xtoOCGdUn_o_"
      }
    },
    {
      "cell_type": "code",
      "source": [
        "df['groups'].value_counts().sort_values(ascending=False)"
      ],
      "metadata": {
        "colab": {
          "base_uri": "https://localhost:8080/"
        },
        "id": "Xlc_k4uVoAfE",
        "outputId": "ab1e605c-f020-4e8c-9911-eab9b20397e7"
      },
      "execution_count": null,
      "outputs": [
        {
          "output_type": "execute_result",
          "data": {
            "text/plain": [
              "группа_4    222\n",
              "группа_1    215\n",
              "группа_2    194\n",
              "группа_3    184\n",
              "группа_5    177\n",
              "Name: groups, dtype: int64"
            ]
          },
          "metadata": {},
          "execution_count": 1927
        }
      ]
    },
    {
      "cell_type": "markdown",
      "source": [
        "Для группа_5 вывести самый \"ранний\" (наименьший) индекс."
      ],
      "metadata": {
        "id": "FaYHwNBZotgs"
      }
    },
    {
      "cell_type": "code",
      "source": [
        "df['groups'][df['groups'] == 'группа_5'].index.sort_values()"
      ],
      "metadata": {
        "colab": {
          "base_uri": "https://localhost:8080/"
        },
        "id": "SsHsV3ulo7Q0",
        "outputId": "c663bb5f-1cd3-44da-b7a2-06028815318c"
      },
      "execution_count": null,
      "outputs": [
        {
          "output_type": "execute_result",
          "data": {
            "text/plain": [
              "Int64Index([   6,    7,   18,   21,   22,   28,   38,   44,   46,   52,\n",
              "            ...\n",
              "             949,  954,  960,  969,  970,  971,  978,  989,  997, 1000],\n",
              "           dtype='int64', length=177)"
            ]
          },
          "metadata": {},
          "execution_count": 1928
        }
      ]
    },
    {
      "cell_type": "markdown",
      "source": [
        "Сколько записей из колонки uniform имеют значение не ниже значения 90% перцентиля?"
      ],
      "metadata": {
        "id": "JIKba6_Sq_FF"
      }
    },
    {
      "cell_type": "code",
      "source": [
        "df[df['uniform'] >= df['uniform'].quantile(0.9)].count()"
      ],
      "metadata": {
        "colab": {
          "base_uri": "https://localhost:8080/"
        },
        "id": "OR9oWeZ_rF-E",
        "outputId": "3310aa22-1ee5-46f4-8777-6dc4b58455a8"
      },
      "execution_count": null,
      "outputs": [
        {
          "output_type": "execute_result",
          "data": {
            "text/plain": [
              "groups     118\n",
              "uniform    118\n",
              "gauss_1    118\n",
              "gauss_2    118\n",
              "gauss_3    118\n",
              "dtype: int64"
            ]
          },
          "metadata": {},
          "execution_count": 1929
        }
      ]
    },
    {
      "cell_type": "markdown",
      "source": [
        "У какой группы наибольшее значение медианы для gauss_3?\n",
        "\n",
        "Вывести это значение вместе с группой. Сначала группа, через пробел значение медианы (результат округлить до сотых , для дробной части использовать точку, как разделитель)"
      ],
      "metadata": {
        "id": "QvKF1DWCr7z4"
      }
    },
    {
      "cell_type": "code",
      "source": [
        "df.groupby('groups')['gauss_3'].median().sort_values(ascending = False).round(2)"
      ],
      "metadata": {
        "colab": {
          "base_uri": "https://localhost:8080/"
        },
        "id": "cjTtzJcQr-KC",
        "outputId": "ff539370-8411-4300-e1f1-fae5aaac8f90"
      },
      "execution_count": null,
      "outputs": [
        {
          "output_type": "execute_result",
          "data": {
            "text/plain": [
              "groups\n",
              "группа_2    49.99\n",
              "группа_5    49.94\n",
              "группа_1    49.88\n",
              "группа_3    49.46\n",
              "группа_4    49.07\n",
              "Name: gauss_3, dtype: float64"
            ]
          },
          "metadata": {},
          "execution_count": 1930
        }
      ]
    },
    {
      "cell_type": "markdown",
      "source": [
        "У какой группы наибольшее минимальное значение uniform?\n",
        "\n",
        "Если такого нет, выбрать группу наибольшим минимальным значением в gauss_1.\n",
        "\n",
        "Ответ дать в виде группы, через пробел указать значение в gauss_2 с аналогичной агрегацией (результат округлить до сотых, для дробной части использовать точку, как разделитель)"
      ],
      "metadata": {
        "id": "hWEYy-LHtKhl"
      }
    },
    {
      "cell_type": "code",
      "source": [
        "df.groupby('groups')['uniform'].min()"
      ],
      "metadata": {
        "colab": {
          "base_uri": "https://localhost:8080/"
        },
        "id": "lmYfzX3lzzNO",
        "outputId": "18198d81-e1b0-4a33-ca81-0fee2084b877"
      },
      "execution_count": null,
      "outputs": [
        {
          "output_type": "execute_result",
          "data": {
            "text/plain": [
              "groups\n",
              "группа_1    50\n",
              "группа_2    50\n",
              "группа_3    50\n",
              "группа_4    50\n",
              "группа_5    50\n",
              "Name: uniform, dtype: int64"
            ]
          },
          "metadata": {},
          "execution_count": 1931
        }
      ]
    },
    {
      "cell_type": "code",
      "source": [
        "min_value = df.groupby('groups')['gauss_1'].min()\n",
        "min_value = min_value.max()\n",
        "min_value"
      ],
      "metadata": {
        "colab": {
          "base_uri": "https://localhost:8080/"
        },
        "id": "LQps4YAo4BDQ",
        "outputId": "f1c7d7c0-e78d-45af-e2e7-55515c6d52c9"
      },
      "execution_count": null,
      "outputs": [
        {
          "output_type": "execute_result",
          "data": {
            "text/plain": [
              "-2.6067727433396337"
            ]
          },
          "metadata": {},
          "execution_count": 1945
        }
      ]
    },
    {
      "cell_type": "code",
      "source": [
        "#df.groupby('groups')['gauss_1'].min().round(2).sort_values()"
      ],
      "metadata": {
        "id": "Jo9T5zvy25xb"
      },
      "execution_count": null,
      "outputs": []
    },
    {
      "cell_type": "code",
      "source": [
        "df.loc[df['gauss_1'] == min_value]"
      ],
      "metadata": {
        "colab": {
          "base_uri": "https://localhost:8080/",
          "height": 81
        },
        "id": "eUNb5OgY6sxt",
        "outputId": "7f145b8c-5cdf-4208-ff5b-bf5285b54b43"
      },
      "execution_count": null,
      "outputs": [
        {
          "output_type": "execute_result",
          "data": {
            "text/plain": [
              "       groups  uniform   gauss_1   gauss_2    gauss_3     gauss\n",
              "939  группа_3       62 -2.606773  9.300478  36.542984  0.183173"
            ],
            "text/html": [
              "\n",
              "  <div id=\"df-6087273c-aa41-4ff6-854f-ce4122150b99\">\n",
              "    <div class=\"colab-df-container\">\n",
              "      <div>\n",
              "<style scoped>\n",
              "    .dataframe tbody tr th:only-of-type {\n",
              "        vertical-align: middle;\n",
              "    }\n",
              "\n",
              "    .dataframe tbody tr th {\n",
              "        vertical-align: top;\n",
              "    }\n",
              "\n",
              "    .dataframe thead th {\n",
              "        text-align: right;\n",
              "    }\n",
              "</style>\n",
              "<table border=\"1\" class=\"dataframe\">\n",
              "  <thead>\n",
              "    <tr style=\"text-align: right;\">\n",
              "      <th></th>\n",
              "      <th>groups</th>\n",
              "      <th>uniform</th>\n",
              "      <th>gauss_1</th>\n",
              "      <th>gauss_2</th>\n",
              "      <th>gauss_3</th>\n",
              "      <th>gauss</th>\n",
              "    </tr>\n",
              "  </thead>\n",
              "  <tbody>\n",
              "    <tr>\n",
              "      <th>939</th>\n",
              "      <td>группа_3</td>\n",
              "      <td>62</td>\n",
              "      <td>-2.606773</td>\n",
              "      <td>9.300478</td>\n",
              "      <td>36.542984</td>\n",
              "      <td>0.183173</td>\n",
              "    </tr>\n",
              "  </tbody>\n",
              "</table>\n",
              "</div>\n",
              "      <button class=\"colab-df-convert\" onclick=\"convertToInteractive('df-6087273c-aa41-4ff6-854f-ce4122150b99')\"\n",
              "              title=\"Convert this dataframe to an interactive table.\"\n",
              "              style=\"display:none;\">\n",
              "        \n",
              "  <svg xmlns=\"http://www.w3.org/2000/svg\" height=\"24px\"viewBox=\"0 0 24 24\"\n",
              "       width=\"24px\">\n",
              "    <path d=\"M0 0h24v24H0V0z\" fill=\"none\"/>\n",
              "    <path d=\"M18.56 5.44l.94 2.06.94-2.06 2.06-.94-2.06-.94-.94-2.06-.94 2.06-2.06.94zm-11 1L8.5 8.5l.94-2.06 2.06-.94-2.06-.94L8.5 2.5l-.94 2.06-2.06.94zm10 10l.94 2.06.94-2.06 2.06-.94-2.06-.94-.94-2.06-.94 2.06-2.06.94z\"/><path d=\"M17.41 7.96l-1.37-1.37c-.4-.4-.92-.59-1.43-.59-.52 0-1.04.2-1.43.59L10.3 9.45l-7.72 7.72c-.78.78-.78 2.05 0 2.83L4 21.41c.39.39.9.59 1.41.59.51 0 1.02-.2 1.41-.59l7.78-7.78 2.81-2.81c.8-.78.8-2.07 0-2.86zM5.41 20L4 18.59l7.72-7.72 1.47 1.35L5.41 20z\"/>\n",
              "  </svg>\n",
              "      </button>\n",
              "      \n",
              "  <style>\n",
              "    .colab-df-container {\n",
              "      display:flex;\n",
              "      flex-wrap:wrap;\n",
              "      gap: 12px;\n",
              "    }\n",
              "\n",
              "    .colab-df-convert {\n",
              "      background-color: #E8F0FE;\n",
              "      border: none;\n",
              "      border-radius: 50%;\n",
              "      cursor: pointer;\n",
              "      display: none;\n",
              "      fill: #1967D2;\n",
              "      height: 32px;\n",
              "      padding: 0 0 0 0;\n",
              "      width: 32px;\n",
              "    }\n",
              "\n",
              "    .colab-df-convert:hover {\n",
              "      background-color: #E2EBFA;\n",
              "      box-shadow: 0px 1px 2px rgba(60, 64, 67, 0.3), 0px 1px 3px 1px rgba(60, 64, 67, 0.15);\n",
              "      fill: #174EA6;\n",
              "    }\n",
              "\n",
              "    [theme=dark] .colab-df-convert {\n",
              "      background-color: #3B4455;\n",
              "      fill: #D2E3FC;\n",
              "    }\n",
              "\n",
              "    [theme=dark] .colab-df-convert:hover {\n",
              "      background-color: #434B5C;\n",
              "      box-shadow: 0px 1px 3px 1px rgba(0, 0, 0, 0.15);\n",
              "      filter: drop-shadow(0px 1px 2px rgba(0, 0, 0, 0.3));\n",
              "      fill: #FFFFFF;\n",
              "    }\n",
              "  </style>\n",
              "\n",
              "      <script>\n",
              "        const buttonEl =\n",
              "          document.querySelector('#df-6087273c-aa41-4ff6-854f-ce4122150b99 button.colab-df-convert');\n",
              "        buttonEl.style.display =\n",
              "          google.colab.kernel.accessAllowed ? 'block' : 'none';\n",
              "\n",
              "        async function convertToInteractive(key) {\n",
              "          const element = document.querySelector('#df-6087273c-aa41-4ff6-854f-ce4122150b99');\n",
              "          const dataTable =\n",
              "            await google.colab.kernel.invokeFunction('convertToInteractive',\n",
              "                                                     [key], {});\n",
              "          if (!dataTable) return;\n",
              "\n",
              "          const docLinkHtml = 'Like what you see? Visit the ' +\n",
              "            '<a target=\"_blank\" href=https://colab.research.google.com/notebooks/data_table.ipynb>data table notebook</a>'\n",
              "            + ' to learn more about interactive tables.';\n",
              "          element.innerHTML = '';\n",
              "          dataTable['output_type'] = 'display_data';\n",
              "          await google.colab.output.renderOutput(dataTable, element);\n",
              "          const docLink = document.createElement('div');\n",
              "          docLink.innerHTML = docLinkHtml;\n",
              "          element.appendChild(docLink);\n",
              "        }\n",
              "      </script>\n",
              "    </div>\n",
              "  </div>\n",
              "  "
            ]
          },
          "metadata": {},
          "execution_count": 1946
        }
      ]
    },
    {
      "cell_type": "code",
      "source": [
        "df[df['groups'] == 'группа_3']['gauss_2'].min().round(2)"
      ],
      "metadata": {
        "colab": {
          "base_uri": "https://localhost:8080/"
        },
        "id": "7czMUT5H5fYp",
        "outputId": "6fe3869c-540b-45fa-9f36-8b5fd397b130"
      },
      "execution_count": null,
      "outputs": [
        {
          "output_type": "execute_result",
          "data": {
            "text/plain": [
              "-36.19"
            ]
          },
          "metadata": {},
          "execution_count": 1949
        }
      ]
    },
    {
      "cell_type": "markdown",
      "source": [
        "Получается, что ответ группа_3 -36.19"
      ],
      "metadata": {
        "id": "wK5Wwdlz6SnL"
      }
    },
    {
      "cell_type": "markdown",
      "source": [
        "Создать новую колонку gauss где значения будут получаться из (gauss_1 + gauss_2) / gauss_3\n",
        "\n",
        "Чему будет равен 70% перцентиль (результат округлить до сотых, для дробной части использовать точку, как разделитель)?"
      ],
      "metadata": {
        "id": "QzwwGfHYubeK"
      }
    },
    {
      "cell_type": "code",
      "source": [
        "df['gauss'] = (df['gauss_1'] + df['gauss_2']) / df['gauss_3']\n",
        "df['gauss'].quantile(0.7).round(2)"
      ],
      "metadata": {
        "colab": {
          "base_uri": "https://localhost:8080/"
        },
        "id": "TeeP13LducXe",
        "outputId": "915df269-4bc2-4af5-a760-072d00dd4c08"
      },
      "execution_count": null,
      "outputs": [
        {
          "output_type": "execute_result",
          "data": {
            "text/plain": [
              "0.11"
            ]
          },
          "metadata": {},
          "execution_count": 1937
        }
      ]
    }
  ]
}
